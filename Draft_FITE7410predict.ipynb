{
 "cells": [
  {
   "cell_type": "markdown",
   "id": "46372a00",
   "metadata": {
    "papermill": {
     "duration": 0.012192,
     "end_time": "2022-07-08T04:17:05.675056",
     "exception": false,
     "start_time": "2022-07-08T04:17:05.662864",
     "status": "completed"
    },
    "tags": []
   },
   "source": [
    "In the Application Data Set, we have attributes such as IncomeTotal,AMTAPPLICATION,AMT CREDIT, and approximately 122 Columns. The interesting thing is that if you want to see patterns and variations, we find out the SK_ID_CURR of creditcard fraud detection not SK_ID_CURR creditcard fraud detection."
   ]
  },
  {
   "cell_type": "markdown",
   "id": "10e88cc3",
   "metadata": {
    "papermill": {
     "duration": 0.014405,
     "end_time": "2022-07-08T04:17:05.705483",
     "exception": false,
     "start_time": "2022-07-08T04:17:05.691078",
     "status": "completed"
    },
    "tags": []
   },
   "source": [
    "**Importing the necessary libraries**"
   ]
  },
  {
   "cell_type": "code",
   "execution_count": 1,
   "id": "7bddcceb",
   "metadata": {
    "execution": {
     "iopub.execute_input": "2022-07-08T04:17:05.734155Z",
     "iopub.status.busy": "2022-07-08T04:17:05.733572Z",
     "iopub.status.idle": "2022-07-08T04:17:07.283748Z",
     "shell.execute_reply": "2022-07-08T04:17:07.282618Z"
    },
    "papermill": {
     "duration": 1.569901,
     "end_time": "2022-07-08T04:17:07.286978",
     "exception": false,
     "start_time": "2022-07-08T04:17:05.717077",
     "status": "completed"
    },
    "tags": []
   },
   "outputs": [],
   "source": [
    "# data analysis and wrangling\n",
    "import pandas as pd\n",
    "import numpy as np\n",
    "import random as rnd\n",
    "\n",
    "# visualization\n",
    "import seaborn as sns\n",
    "import matplotlib.pyplot as plt\n",
    "%matplotlib inline\n",
    "from sklearn.model_selection import train_test_split\n",
    "from sklearn.preprocessing import LabelEncoder\n",
    "#machine learning\n",
    "from sklearn.ensemble import RandomForestClassifier\n",
    "from sklearn.linear_model import LogisticRegression\n",
    "from sklearn.svm import SVC, LinearSVC"
   ]
  },
  {
   "cell_type": "code",
   "execution_count": 2,
   "id": "c3215253",
   "metadata": {},
   "outputs": [],
   "source": [
    "from sklearn.metrics import auc"
   ]
  },
  {
   "cell_type": "markdown",
   "id": "08382ad9",
   "metadata": {
    "papermill": {
     "duration": 0.010564,
     "end_time": "2022-07-08T04:17:07.308277",
     "exception": false,
     "start_time": "2022-07-08T04:17:07.297713",
     "status": "completed"
    },
    "tags": []
   },
   "source": [
    "**Load the DataSet**"
   ]
  },
  {
   "cell_type": "code",
   "execution_count": 3,
   "id": "9e1cc634",
   "metadata": {
    "execution": {
     "iopub.execute_input": "2022-07-08T04:17:07.332572Z",
     "iopub.status.busy": "2022-07-08T04:17:07.331529Z",
     "iopub.status.idle": "2022-07-08T04:17:13.202374Z",
     "shell.execute_reply": "2022-07-08T04:17:13.201301Z"
    },
    "id": "BuObPpqT7t3C",
    "papermill": {
     "duration": 5.885666,
     "end_time": "2022-07-08T04:17:13.204868",
     "exception": false,
     "start_time": "2022-07-08T04:17:07.319202",
     "status": "completed"
    },
    "tags": []
   },
   "outputs": [],
   "source": [
    "df=pd.read_csv('data/application_data.csv')"
   ]
  },
  {
   "cell_type": "markdown",
   "id": "410bfa22",
   "metadata": {
    "papermill": {
     "duration": 0.010111,
     "end_time": "2022-07-08T04:17:13.225955",
     "exception": false,
     "start_time": "2022-07-08T04:17:13.215844",
     "status": "completed"
    },
    "tags": []
   },
   "source": [
    "**EDA**"
   ]
  },
  {
   "cell_type": "code",
   "execution_count": 4,
   "id": "f6d5f7c8",
   "metadata": {
    "execution": {
     "iopub.execute_input": "2022-07-08T04:17:13.249152Z",
     "iopub.status.busy": "2022-07-08T04:17:13.248489Z",
     "iopub.status.idle": "2022-07-08T04:17:13.282642Z",
     "shell.execute_reply": "2022-07-08T04:17:13.281522Z"
    },
    "id": "6cViZDTmemb4",
    "outputId": "d9e219fe-48a3-4952-c704-d75247d5d267",
    "papermill": {
     "duration": 0.048325,
     "end_time": "2022-07-08T04:17:13.284847",
     "exception": false,
     "start_time": "2022-07-08T04:17:13.236522",
     "status": "completed"
    },
    "tags": []
   },
   "outputs": [
    {
     "data": {
      "text/html": [
       "<div>\n",
       "<style scoped>\n",
       "    .dataframe tbody tr th:only-of-type {\n",
       "        vertical-align: middle;\n",
       "    }\n",
       "\n",
       "    .dataframe tbody tr th {\n",
       "        vertical-align: top;\n",
       "    }\n",
       "\n",
       "    .dataframe thead th {\n",
       "        text-align: right;\n",
       "    }\n",
       "</style>\n",
       "<table border=\"1\" class=\"dataframe\">\n",
       "  <thead>\n",
       "    <tr style=\"text-align: right;\">\n",
       "      <th></th>\n",
       "      <th>SK_ID_CURR</th>\n",
       "      <th>TARGET</th>\n",
       "      <th>NAME_CONTRACT_TYPE</th>\n",
       "      <th>CODE_GENDER</th>\n",
       "      <th>FLAG_OWN_CAR</th>\n",
       "      <th>FLAG_OWN_REALTY</th>\n",
       "      <th>CNT_CHILDREN</th>\n",
       "      <th>AMT_INCOME_TOTAL</th>\n",
       "      <th>AMT_CREDIT</th>\n",
       "      <th>AMT_ANNUITY</th>\n",
       "      <th>...</th>\n",
       "      <th>FLAG_DOCUMENT_18</th>\n",
       "      <th>FLAG_DOCUMENT_19</th>\n",
       "      <th>FLAG_DOCUMENT_20</th>\n",
       "      <th>FLAG_DOCUMENT_21</th>\n",
       "      <th>AMT_REQ_CREDIT_BUREAU_HOUR</th>\n",
       "      <th>AMT_REQ_CREDIT_BUREAU_DAY</th>\n",
       "      <th>AMT_REQ_CREDIT_BUREAU_WEEK</th>\n",
       "      <th>AMT_REQ_CREDIT_BUREAU_MON</th>\n",
       "      <th>AMT_REQ_CREDIT_BUREAU_QRT</th>\n",
       "      <th>AMT_REQ_CREDIT_BUREAU_YEAR</th>\n",
       "    </tr>\n",
       "  </thead>\n",
       "  <tbody>\n",
       "    <tr>\n",
       "      <th>0</th>\n",
       "      <td>100002</td>\n",
       "      <td>1</td>\n",
       "      <td>Cash loans</td>\n",
       "      <td>M</td>\n",
       "      <td>N</td>\n",
       "      <td>Y</td>\n",
       "      <td>0</td>\n",
       "      <td>202500.0</td>\n",
       "      <td>406597.5</td>\n",
       "      <td>24700.5</td>\n",
       "      <td>...</td>\n",
       "      <td>0</td>\n",
       "      <td>0</td>\n",
       "      <td>0</td>\n",
       "      <td>0</td>\n",
       "      <td>0.0</td>\n",
       "      <td>0.0</td>\n",
       "      <td>0.0</td>\n",
       "      <td>0.0</td>\n",
       "      <td>0.0</td>\n",
       "      <td>1.0</td>\n",
       "    </tr>\n",
       "    <tr>\n",
       "      <th>1</th>\n",
       "      <td>100003</td>\n",
       "      <td>0</td>\n",
       "      <td>Cash loans</td>\n",
       "      <td>F</td>\n",
       "      <td>N</td>\n",
       "      <td>N</td>\n",
       "      <td>0</td>\n",
       "      <td>270000.0</td>\n",
       "      <td>1293502.5</td>\n",
       "      <td>35698.5</td>\n",
       "      <td>...</td>\n",
       "      <td>0</td>\n",
       "      <td>0</td>\n",
       "      <td>0</td>\n",
       "      <td>0</td>\n",
       "      <td>0.0</td>\n",
       "      <td>0.0</td>\n",
       "      <td>0.0</td>\n",
       "      <td>0.0</td>\n",
       "      <td>0.0</td>\n",
       "      <td>0.0</td>\n",
       "    </tr>\n",
       "    <tr>\n",
       "      <th>2</th>\n",
       "      <td>100004</td>\n",
       "      <td>0</td>\n",
       "      <td>Revolving loans</td>\n",
       "      <td>M</td>\n",
       "      <td>Y</td>\n",
       "      <td>Y</td>\n",
       "      <td>0</td>\n",
       "      <td>67500.0</td>\n",
       "      <td>135000.0</td>\n",
       "      <td>6750.0</td>\n",
       "      <td>...</td>\n",
       "      <td>0</td>\n",
       "      <td>0</td>\n",
       "      <td>0</td>\n",
       "      <td>0</td>\n",
       "      <td>0.0</td>\n",
       "      <td>0.0</td>\n",
       "      <td>0.0</td>\n",
       "      <td>0.0</td>\n",
       "      <td>0.0</td>\n",
       "      <td>0.0</td>\n",
       "    </tr>\n",
       "    <tr>\n",
       "      <th>3</th>\n",
       "      <td>100006</td>\n",
       "      <td>0</td>\n",
       "      <td>Cash loans</td>\n",
       "      <td>F</td>\n",
       "      <td>N</td>\n",
       "      <td>Y</td>\n",
       "      <td>0</td>\n",
       "      <td>135000.0</td>\n",
       "      <td>312682.5</td>\n",
       "      <td>29686.5</td>\n",
       "      <td>...</td>\n",
       "      <td>0</td>\n",
       "      <td>0</td>\n",
       "      <td>0</td>\n",
       "      <td>0</td>\n",
       "      <td>NaN</td>\n",
       "      <td>NaN</td>\n",
       "      <td>NaN</td>\n",
       "      <td>NaN</td>\n",
       "      <td>NaN</td>\n",
       "      <td>NaN</td>\n",
       "    </tr>\n",
       "    <tr>\n",
       "      <th>4</th>\n",
       "      <td>100007</td>\n",
       "      <td>0</td>\n",
       "      <td>Cash loans</td>\n",
       "      <td>M</td>\n",
       "      <td>N</td>\n",
       "      <td>Y</td>\n",
       "      <td>0</td>\n",
       "      <td>121500.0</td>\n",
       "      <td>513000.0</td>\n",
       "      <td>21865.5</td>\n",
       "      <td>...</td>\n",
       "      <td>0</td>\n",
       "      <td>0</td>\n",
       "      <td>0</td>\n",
       "      <td>0</td>\n",
       "      <td>0.0</td>\n",
       "      <td>0.0</td>\n",
       "      <td>0.0</td>\n",
       "      <td>0.0</td>\n",
       "      <td>0.0</td>\n",
       "      <td>0.0</td>\n",
       "    </tr>\n",
       "  </tbody>\n",
       "</table>\n",
       "<p>5 rows × 122 columns</p>\n",
       "</div>"
      ],
      "text/plain": [
       "   SK_ID_CURR  TARGET NAME_CONTRACT_TYPE CODE_GENDER FLAG_OWN_CAR  \\\n",
       "0      100002       1         Cash loans           M            N   \n",
       "1      100003       0         Cash loans           F            N   \n",
       "2      100004       0    Revolving loans           M            Y   \n",
       "3      100006       0         Cash loans           F            N   \n",
       "4      100007       0         Cash loans           M            N   \n",
       "\n",
       "  FLAG_OWN_REALTY  CNT_CHILDREN  AMT_INCOME_TOTAL  AMT_CREDIT  AMT_ANNUITY  \\\n",
       "0               Y             0          202500.0    406597.5      24700.5   \n",
       "1               N             0          270000.0   1293502.5      35698.5   \n",
       "2               Y             0           67500.0    135000.0       6750.0   \n",
       "3               Y             0          135000.0    312682.5      29686.5   \n",
       "4               Y             0          121500.0    513000.0      21865.5   \n",
       "\n",
       "   ...  FLAG_DOCUMENT_18 FLAG_DOCUMENT_19 FLAG_DOCUMENT_20 FLAG_DOCUMENT_21  \\\n",
       "0  ...                 0                0                0                0   \n",
       "1  ...                 0                0                0                0   \n",
       "2  ...                 0                0                0                0   \n",
       "3  ...                 0                0                0                0   \n",
       "4  ...                 0                0                0                0   \n",
       "\n",
       "  AMT_REQ_CREDIT_BUREAU_HOUR AMT_REQ_CREDIT_BUREAU_DAY  \\\n",
       "0                        0.0                       0.0   \n",
       "1                        0.0                       0.0   \n",
       "2                        0.0                       0.0   \n",
       "3                        NaN                       NaN   \n",
       "4                        0.0                       0.0   \n",
       "\n",
       "   AMT_REQ_CREDIT_BUREAU_WEEK  AMT_REQ_CREDIT_BUREAU_MON  \\\n",
       "0                         0.0                        0.0   \n",
       "1                         0.0                        0.0   \n",
       "2                         0.0                        0.0   \n",
       "3                         NaN                        NaN   \n",
       "4                         0.0                        0.0   \n",
       "\n",
       "   AMT_REQ_CREDIT_BUREAU_QRT  AMT_REQ_CREDIT_BUREAU_YEAR  \n",
       "0                        0.0                         1.0  \n",
       "1                        0.0                         0.0  \n",
       "2                        0.0                         0.0  \n",
       "3                        NaN                         NaN  \n",
       "4                        0.0                         0.0  \n",
       "\n",
       "[5 rows x 122 columns]"
      ]
     },
     "execution_count": 4,
     "metadata": {},
     "output_type": "execute_result"
    }
   ],
   "source": [
    "df.head()"
   ]
  },
  {
   "cell_type": "code",
   "execution_count": 5,
   "id": "09ba16a5",
   "metadata": {
    "execution": {
     "iopub.execute_input": "2022-07-08T04:17:13.308573Z",
     "iopub.status.busy": "2022-07-08T04:17:13.308158Z",
     "iopub.status.idle": "2022-07-08T04:17:13.314953Z",
     "shell.execute_reply": "2022-07-08T04:17:13.313936Z"
    },
    "papermill": {
     "duration": 0.021157,
     "end_time": "2022-07-08T04:17:13.316999",
     "exception": false,
     "start_time": "2022-07-08T04:17:13.295842",
     "status": "completed"
    },
    "tags": []
   },
   "outputs": [
    {
     "data": {
      "text/plain": [
       "(307511, 122)"
      ]
     },
     "execution_count": 5,
     "metadata": {},
     "output_type": "execute_result"
    }
   ],
   "source": [
    "df.shape"
   ]
  },
  {
   "cell_type": "code",
   "execution_count": 6,
   "id": "14256524",
   "metadata": {
    "execution": {
     "iopub.execute_input": "2022-07-08T04:17:13.341140Z",
     "iopub.status.busy": "2022-07-08T04:17:13.339976Z",
     "iopub.status.idle": "2022-07-08T04:17:13.345830Z",
     "shell.execute_reply": "2022-07-08T04:17:13.345169Z"
    },
    "papermill": {
     "duration": 0.019691,
     "end_time": "2022-07-08T04:17:13.347663",
     "exception": false,
     "start_time": "2022-07-08T04:17:13.327972",
     "status": "completed"
    },
    "tags": []
   },
   "outputs": [
    {
     "data": {
      "text/plain": [
       "37516342"
      ]
     },
     "execution_count": 6,
     "metadata": {},
     "output_type": "execute_result"
    }
   ],
   "source": [
    "df.size"
   ]
  },
  {
   "cell_type": "code",
   "execution_count": 7,
   "id": "4e689c1f",
   "metadata": {
    "execution": {
     "iopub.execute_input": "2022-07-08T04:17:13.371901Z",
     "iopub.status.busy": "2022-07-08T04:17:13.371197Z",
     "iopub.status.idle": "2022-07-08T04:17:13.378748Z",
     "shell.execute_reply": "2022-07-08T04:17:13.377999Z"
    },
    "papermill": {
     "duration": 0.021947,
     "end_time": "2022-07-08T04:17:13.380547",
     "exception": false,
     "start_time": "2022-07-08T04:17:13.358600",
     "status": "completed"
    },
    "tags": []
   },
   "outputs": [
    {
     "data": {
      "text/plain": [
       "SK_ID_CURR                      int64\n",
       "TARGET                          int64\n",
       "NAME_CONTRACT_TYPE             object\n",
       "CODE_GENDER                    object\n",
       "FLAG_OWN_CAR                   object\n",
       "                               ...   \n",
       "AMT_REQ_CREDIT_BUREAU_DAY     float64\n",
       "AMT_REQ_CREDIT_BUREAU_WEEK    float64\n",
       "AMT_REQ_CREDIT_BUREAU_MON     float64\n",
       "AMT_REQ_CREDIT_BUREAU_QRT     float64\n",
       "AMT_REQ_CREDIT_BUREAU_YEAR    float64\n",
       "Length: 122, dtype: object"
      ]
     },
     "execution_count": 7,
     "metadata": {},
     "output_type": "execute_result"
    }
   ],
   "source": [
    "df.dtypes"
   ]
  },
  {
   "cell_type": "code",
   "execution_count": 8,
   "id": "c3c3d505",
   "metadata": {
    "execution": {
     "iopub.execute_input": "2022-07-08T04:17:13.404765Z",
     "iopub.status.busy": "2022-07-08T04:17:13.404078Z",
     "iopub.status.idle": "2022-07-08T04:17:13.481879Z",
     "shell.execute_reply": "2022-07-08T04:17:13.480797Z"
    },
    "id": "oSlus6HGem8n",
    "papermill": {
     "duration": 0.093199,
     "end_time": "2022-07-08T04:17:13.484616",
     "exception": false,
     "start_time": "2022-07-08T04:17:13.391417",
     "status": "completed"
    },
    "tags": []
   },
   "outputs": [],
   "source": [
    "df.drop([\"CODE_GENDER\",\"FLAG_OWN_CAR\",\"FLAG_OWN_REALTY\",\"CNT_CHILDREN\",\"NAME_EDUCATION_TYPE\",\"NAME_FAMILY_STATUS\",\n",
    "         \"NAME_HOUSING_TYPE\",\"REGION_POPULATION_RELATIVE\",\"DAYS_BIRTH\",\"DAYS_EMPLOYED\",\"DAYS_REGISTRATION\",\"DAYS_ID_PUBLISH\",\"OWN_CAR_AGE\",\"FLAG_MOBIL\",\n",
    "         \"FLAG_EMP_PHONE\",\"FLAG_WORK_PHONE\",\"FLAG_CONT_MOBILE\",\"FLAG_PHONE\",\"FLAG_EMAIL\",\"FLAG_EMAIL\",\"CNT_FAM_MEMBERS\",\"REGION_RATING_CLIENT\",\n",
    "         \"REGION_RATING_CLIENT_W_CITY\",\"REG_REGION_NOT_LIVE_REGION\",\"REG_REGION_NOT_WORK_REGION\",\"NAME_TYPE_SUITE\",\n",
    "         \"LIVE_REGION_NOT_WORK_REGION\",\"REG_CITY_NOT_LIVE_CITY\",\"REG_CITY_NOT_WORK_CITY\",\"LIVE_CITY_NOT_WORK_CITY\"],axis=1,inplace=True)"
   ]
  },
  {
   "cell_type": "code",
   "execution_count": 9,
   "id": "134b36e8",
   "metadata": {
    "execution": {
     "iopub.execute_input": "2022-07-08T04:17:13.509626Z",
     "iopub.status.busy": "2022-07-08T04:17:13.508553Z",
     "iopub.status.idle": "2022-07-08T04:17:13.584521Z",
     "shell.execute_reply": "2022-07-08T04:17:13.583149Z"
    },
    "id": "Q9XAHlkIna3v",
    "papermill": {
     "duration": 0.091371,
     "end_time": "2022-07-08T04:17:13.587304",
     "exception": false,
     "start_time": "2022-07-08T04:17:13.495933",
     "status": "completed"
    },
    "tags": []
   },
   "outputs": [],
   "source": [
    "df.drop(['FONDKAPREMONT_MODE', 'HOUSETYPE_MODE',\n",
    "       'WALLSMATERIAL_MODE', 'EMERGENCYSTATE_MODE', 'OBS_30_CNT_SOCIAL_CIRCLE',\n",
    "       'DEF_30_CNT_SOCIAL_CIRCLE', 'OBS_60_CNT_SOCIAL_CIRCLE',\n",
    "       'DEF_60_CNT_SOCIAL_CIRCLE', 'DAYS_LAST_PHONE_CHANGE', 'FLAG_DOCUMENT_2',\n",
    "       'FLAG_DOCUMENT_3', 'FLAG_DOCUMENT_4', 'FLAG_DOCUMENT_5',\n",
    "       'FLAG_DOCUMENT_6', 'FLAG_DOCUMENT_7', 'FLAG_DOCUMENT_8',\n",
    "       'FLAG_DOCUMENT_9', 'FLAG_DOCUMENT_10', 'FLAG_DOCUMENT_11',\n",
    "       'FLAG_DOCUMENT_12', 'FLAG_DOCUMENT_13', 'FLAG_DOCUMENT_14',\n",
    "       'FLAG_DOCUMENT_15', 'FLAG_DOCUMENT_16', 'FLAG_DOCUMENT_17',\n",
    "       'FLAG_DOCUMENT_18', 'FLAG_DOCUMENT_19', 'FLAG_DOCUMENT_20',\n",
    "       'FLAG_DOCUMENT_21', 'AMT_REQ_CREDIT_BUREAU_HOUR','AMT_REQ_CREDIT_BUREAU_DAY', 'AMT_REQ_CREDIT_BUREAU_WEEK',\n",
    "       'AMT_REQ_CREDIT_BUREAU_MON', 'AMT_REQ_CREDIT_BUREAU_QRT',\n",
    "'AMT_REQ_CREDIT_BUREAU_YEAR'],axis=1,inplace=True)"
   ]
  },
  {
   "cell_type": "code",
   "execution_count": 10,
   "id": "e9f6b98a",
   "metadata": {
    "execution": {
     "iopub.execute_input": "2022-07-08T04:17:13.612450Z",
     "iopub.status.busy": "2022-07-08T04:17:13.611776Z",
     "iopub.status.idle": "2022-07-08T04:17:13.639224Z",
     "shell.execute_reply": "2022-07-08T04:17:13.638117Z"
    },
    "id": "HtFFbgWxenKw",
    "outputId": "59e9dd09-5f1c-4d80-8b75-d019ad1a36f5",
    "papermill": {
     "duration": 0.043018,
     "end_time": "2022-07-08T04:17:13.641761",
     "exception": false,
     "start_time": "2022-07-08T04:17:13.598743",
     "status": "completed"
    },
    "tags": []
   },
   "outputs": [
    {
     "data": {
      "text/html": [
       "<div>\n",
       "<style scoped>\n",
       "    .dataframe tbody tr th:only-of-type {\n",
       "        vertical-align: middle;\n",
       "    }\n",
       "\n",
       "    .dataframe tbody tr th {\n",
       "        vertical-align: top;\n",
       "    }\n",
       "\n",
       "    .dataframe thead th {\n",
       "        text-align: right;\n",
       "    }\n",
       "</style>\n",
       "<table border=\"1\" class=\"dataframe\">\n",
       "  <thead>\n",
       "    <tr style=\"text-align: right;\">\n",
       "      <th></th>\n",
       "      <th>SK_ID_CURR</th>\n",
       "      <th>TARGET</th>\n",
       "      <th>NAME_CONTRACT_TYPE</th>\n",
       "      <th>AMT_INCOME_TOTAL</th>\n",
       "      <th>AMT_CREDIT</th>\n",
       "      <th>AMT_ANNUITY</th>\n",
       "      <th>AMT_GOODS_PRICE</th>\n",
       "      <th>NAME_INCOME_TYPE</th>\n",
       "      <th>OCCUPATION_TYPE</th>\n",
       "      <th>WEEKDAY_APPR_PROCESS_START</th>\n",
       "      <th>...</th>\n",
       "      <th>ELEVATORS_MEDI</th>\n",
       "      <th>ENTRANCES_MEDI</th>\n",
       "      <th>FLOORSMAX_MEDI</th>\n",
       "      <th>FLOORSMIN_MEDI</th>\n",
       "      <th>LANDAREA_MEDI</th>\n",
       "      <th>LIVINGAPARTMENTS_MEDI</th>\n",
       "      <th>LIVINGAREA_MEDI</th>\n",
       "      <th>NONLIVINGAPARTMENTS_MEDI</th>\n",
       "      <th>NONLIVINGAREA_MEDI</th>\n",
       "      <th>TOTALAREA_MODE</th>\n",
       "    </tr>\n",
       "  </thead>\n",
       "  <tbody>\n",
       "    <tr>\n",
       "      <th>307506</th>\n",
       "      <td>456251</td>\n",
       "      <td>0</td>\n",
       "      <td>Cash loans</td>\n",
       "      <td>157500.0</td>\n",
       "      <td>254700.0</td>\n",
       "      <td>27558.0</td>\n",
       "      <td>225000.0</td>\n",
       "      <td>Working</td>\n",
       "      <td>Sales staff</td>\n",
       "      <td>THURSDAY</td>\n",
       "      <td>...</td>\n",
       "      <td>0.22</td>\n",
       "      <td>0.1034</td>\n",
       "      <td>0.6042</td>\n",
       "      <td>0.2708</td>\n",
       "      <td>0.0605</td>\n",
       "      <td>0.1509</td>\n",
       "      <td>0.2001</td>\n",
       "      <td>0.0757</td>\n",
       "      <td>0.1118</td>\n",
       "      <td>0.2898</td>\n",
       "    </tr>\n",
       "    <tr>\n",
       "      <th>307507</th>\n",
       "      <td>456252</td>\n",
       "      <td>0</td>\n",
       "      <td>Cash loans</td>\n",
       "      <td>72000.0</td>\n",
       "      <td>269550.0</td>\n",
       "      <td>12001.5</td>\n",
       "      <td>225000.0</td>\n",
       "      <td>Pensioner</td>\n",
       "      <td>NaN</td>\n",
       "      <td>MONDAY</td>\n",
       "      <td>...</td>\n",
       "      <td>0.00</td>\n",
       "      <td>0.1034</td>\n",
       "      <td>0.0833</td>\n",
       "      <td>0.1250</td>\n",
       "      <td>0.0589</td>\n",
       "      <td>0.0205</td>\n",
       "      <td>0.0261</td>\n",
       "      <td>0.0000</td>\n",
       "      <td>0.0000</td>\n",
       "      <td>0.0214</td>\n",
       "    </tr>\n",
       "    <tr>\n",
       "      <th>307508</th>\n",
       "      <td>456253</td>\n",
       "      <td>0</td>\n",
       "      <td>Cash loans</td>\n",
       "      <td>153000.0</td>\n",
       "      <td>677664.0</td>\n",
       "      <td>29979.0</td>\n",
       "      <td>585000.0</td>\n",
       "      <td>Working</td>\n",
       "      <td>Managers</td>\n",
       "      <td>THURSDAY</td>\n",
       "      <td>...</td>\n",
       "      <td>0.00</td>\n",
       "      <td>0.2069</td>\n",
       "      <td>0.1667</td>\n",
       "      <td>0.2083</td>\n",
       "      <td>NaN</td>\n",
       "      <td>0.0855</td>\n",
       "      <td>0.9445</td>\n",
       "      <td>0.0000</td>\n",
       "      <td>0.0000</td>\n",
       "      <td>0.7970</td>\n",
       "    </tr>\n",
       "    <tr>\n",
       "      <th>307509</th>\n",
       "      <td>456254</td>\n",
       "      <td>1</td>\n",
       "      <td>Cash loans</td>\n",
       "      <td>171000.0</td>\n",
       "      <td>370107.0</td>\n",
       "      <td>20205.0</td>\n",
       "      <td>319500.0</td>\n",
       "      <td>Commercial associate</td>\n",
       "      <td>Laborers</td>\n",
       "      <td>WEDNESDAY</td>\n",
       "      <td>...</td>\n",
       "      <td>NaN</td>\n",
       "      <td>0.0690</td>\n",
       "      <td>0.0417</td>\n",
       "      <td>NaN</td>\n",
       "      <td>NaN</td>\n",
       "      <td>NaN</td>\n",
       "      <td>0.0062</td>\n",
       "      <td>NaN</td>\n",
       "      <td>NaN</td>\n",
       "      <td>0.0086</td>\n",
       "    </tr>\n",
       "    <tr>\n",
       "      <th>307510</th>\n",
       "      <td>456255</td>\n",
       "      <td>0</td>\n",
       "      <td>Cash loans</td>\n",
       "      <td>157500.0</td>\n",
       "      <td>675000.0</td>\n",
       "      <td>49117.5</td>\n",
       "      <td>675000.0</td>\n",
       "      <td>Commercial associate</td>\n",
       "      <td>Laborers</td>\n",
       "      <td>THURSDAY</td>\n",
       "      <td>...</td>\n",
       "      <td>0.08</td>\n",
       "      <td>0.0690</td>\n",
       "      <td>0.3750</td>\n",
       "      <td>NaN</td>\n",
       "      <td>NaN</td>\n",
       "      <td>NaN</td>\n",
       "      <td>0.0805</td>\n",
       "      <td>NaN</td>\n",
       "      <td>0.0000</td>\n",
       "      <td>0.0718</td>\n",
       "    </tr>\n",
       "  </tbody>\n",
       "</table>\n",
       "<p>5 rows × 58 columns</p>\n",
       "</div>"
      ],
      "text/plain": [
       "        SK_ID_CURR  TARGET NAME_CONTRACT_TYPE  AMT_INCOME_TOTAL  AMT_CREDIT  \\\n",
       "307506      456251       0         Cash loans          157500.0    254700.0   \n",
       "307507      456252       0         Cash loans           72000.0    269550.0   \n",
       "307508      456253       0         Cash loans          153000.0    677664.0   \n",
       "307509      456254       1         Cash loans          171000.0    370107.0   \n",
       "307510      456255       0         Cash loans          157500.0    675000.0   \n",
       "\n",
       "        AMT_ANNUITY  AMT_GOODS_PRICE      NAME_INCOME_TYPE OCCUPATION_TYPE  \\\n",
       "307506      27558.0         225000.0               Working     Sales staff   \n",
       "307507      12001.5         225000.0             Pensioner             NaN   \n",
       "307508      29979.0         585000.0               Working        Managers   \n",
       "307509      20205.0         319500.0  Commercial associate        Laborers   \n",
       "307510      49117.5         675000.0  Commercial associate        Laborers   \n",
       "\n",
       "       WEEKDAY_APPR_PROCESS_START  ...  ELEVATORS_MEDI ENTRANCES_MEDI  \\\n",
       "307506                   THURSDAY  ...            0.22         0.1034   \n",
       "307507                     MONDAY  ...            0.00         0.1034   \n",
       "307508                   THURSDAY  ...            0.00         0.2069   \n",
       "307509                  WEDNESDAY  ...             NaN         0.0690   \n",
       "307510                   THURSDAY  ...            0.08         0.0690   \n",
       "\n",
       "        FLOORSMAX_MEDI  FLOORSMIN_MEDI  LANDAREA_MEDI  LIVINGAPARTMENTS_MEDI  \\\n",
       "307506          0.6042          0.2708         0.0605                 0.1509   \n",
       "307507          0.0833          0.1250         0.0589                 0.0205   \n",
       "307508          0.1667          0.2083            NaN                 0.0855   \n",
       "307509          0.0417             NaN            NaN                    NaN   \n",
       "307510          0.3750             NaN            NaN                    NaN   \n",
       "\n",
       "        LIVINGAREA_MEDI  NONLIVINGAPARTMENTS_MEDI  NONLIVINGAREA_MEDI  \\\n",
       "307506           0.2001                    0.0757              0.1118   \n",
       "307507           0.0261                    0.0000              0.0000   \n",
       "307508           0.9445                    0.0000              0.0000   \n",
       "307509           0.0062                       NaN                 NaN   \n",
       "307510           0.0805                       NaN              0.0000   \n",
       "\n",
       "        TOTALAREA_MODE  \n",
       "307506          0.2898  \n",
       "307507          0.0214  \n",
       "307508          0.7970  \n",
       "307509          0.0086  \n",
       "307510          0.0718  \n",
       "\n",
       "[5 rows x 58 columns]"
      ]
     },
     "execution_count": 10,
     "metadata": {},
     "output_type": "execute_result"
    }
   ],
   "source": [
    "df.tail()"
   ]
  },
  {
   "cell_type": "code",
   "execution_count": 11,
   "id": "33279546",
   "metadata": {
    "execution": {
     "iopub.execute_input": "2022-07-08T04:17:13.667294Z",
     "iopub.status.busy": "2022-07-08T04:17:13.666358Z",
     "iopub.status.idle": "2022-07-08T04:17:13.672263Z",
     "shell.execute_reply": "2022-07-08T04:17:13.671610Z"
    },
    "id": "McPYYbxypYAi",
    "outputId": "176b0ebd-39af-499c-e0c8-f109b09089f3",
    "papermill": {
     "duration": 0.02049,
     "end_time": "2022-07-08T04:17:13.674075",
     "exception": false,
     "start_time": "2022-07-08T04:17:13.653585",
     "status": "completed"
    },
    "tags": []
   },
   "outputs": [
    {
     "data": {
      "text/plain": [
       "Index(['SK_ID_CURR', 'TARGET', 'NAME_CONTRACT_TYPE', 'AMT_INCOME_TOTAL',\n",
       "       'AMT_CREDIT', 'AMT_ANNUITY', 'AMT_GOODS_PRICE', 'NAME_INCOME_TYPE',\n",
       "       'OCCUPATION_TYPE', 'WEEKDAY_APPR_PROCESS_START',\n",
       "       'HOUR_APPR_PROCESS_START', 'ORGANIZATION_TYPE', 'EXT_SOURCE_1',\n",
       "       'EXT_SOURCE_2', 'EXT_SOURCE_3', 'APARTMENTS_AVG', 'BASEMENTAREA_AVG',\n",
       "       'YEARS_BEGINEXPLUATATION_AVG', 'YEARS_BUILD_AVG', 'COMMONAREA_AVG',\n",
       "       'ELEVATORS_AVG', 'ENTRANCES_AVG', 'FLOORSMAX_AVG', 'FLOORSMIN_AVG',\n",
       "       'LANDAREA_AVG', 'LIVINGAPARTMENTS_AVG', 'LIVINGAREA_AVG',\n",
       "       'NONLIVINGAPARTMENTS_AVG', 'NONLIVINGAREA_AVG', 'APARTMENTS_MODE',\n",
       "       'BASEMENTAREA_MODE', 'YEARS_BEGINEXPLUATATION_MODE', 'YEARS_BUILD_MODE',\n",
       "       'COMMONAREA_MODE', 'ELEVATORS_MODE', 'ENTRANCES_MODE', 'FLOORSMAX_MODE',\n",
       "       'FLOORSMIN_MODE', 'LANDAREA_MODE', 'LIVINGAPARTMENTS_MODE',\n",
       "       'LIVINGAREA_MODE', 'NONLIVINGAPARTMENTS_MODE', 'NONLIVINGAREA_MODE',\n",
       "       'APARTMENTS_MEDI', 'BASEMENTAREA_MEDI', 'YEARS_BEGINEXPLUATATION_MEDI',\n",
       "       'YEARS_BUILD_MEDI', 'COMMONAREA_MEDI', 'ELEVATORS_MEDI',\n",
       "       'ENTRANCES_MEDI', 'FLOORSMAX_MEDI', 'FLOORSMIN_MEDI', 'LANDAREA_MEDI',\n",
       "       'LIVINGAPARTMENTS_MEDI', 'LIVINGAREA_MEDI', 'NONLIVINGAPARTMENTS_MEDI',\n",
       "       'NONLIVINGAREA_MEDI', 'TOTALAREA_MODE'],\n",
       "      dtype='object')"
      ]
     },
     "execution_count": 11,
     "metadata": {},
     "output_type": "execute_result"
    }
   ],
   "source": [
    "df.columns"
   ]
  },
  {
   "cell_type": "code",
   "execution_count": 12,
   "id": "cd6d094c",
   "metadata": {
    "execution": {
     "iopub.execute_input": "2022-07-08T04:17:13.701701Z",
     "iopub.status.busy": "2022-07-08T04:17:13.701009Z",
     "iopub.status.idle": "2022-07-08T04:17:13.715681Z",
     "shell.execute_reply": "2022-07-08T04:17:13.714897Z"
    },
    "id": "jSfhKaXhrABI",
    "papermill": {
     "duration": 0.030161,
     "end_time": "2022-07-08T04:17:13.717780",
     "exception": false,
     "start_time": "2022-07-08T04:17:13.687619",
     "status": "completed"
    },
    "tags": []
   },
   "outputs": [],
   "source": [
    "df.drop(['SK_ID_CURR','EXT_SOURCE_1', 'EXT_SOURCE_2', 'EXT_SOURCE_3', 'APARTMENTS_AVG',\n",
    "       'BASEMENTAREA_AVG', 'YEARS_BEGINEXPLUATATION_AVG', 'YEARS_BUILD_AVG',\n",
    "       'COMMONAREA_AVG', 'ELEVATORS_AVG', 'ENTRANCES_AVG', 'FLOORSMAX_AVG',\n",
    "       'FLOORSMIN_AVG', 'LANDAREA_AVG', 'LIVINGAPARTMENTS_AVG','NAME_CONTRACT_TYPE',\n",
    "       'LIVINGAREA_AVG', 'NONLIVINGAPARTMENTS_AVG', 'NONLIVINGAREA_AVG',\n",
    "       'APARTMENTS_MODE', 'BASEMENTAREA_MODE', 'YEARS_BEGINEXPLUATATION_MODE',\n",
    "       'YEARS_BUILD_MODE', 'COMMONAREA_MODE', 'ELEVATORS_MODE','WEEKDAY_APPR_PROCESS_START',\n",
    "       'ENTRANCES_MODE', 'FLOORSMAX_MODE', 'FLOORSMIN_MODE', 'LANDAREA_MODE',\n",
    "       'LIVINGAPARTMENTS_MODE', 'LIVINGAREA_MODE', 'NONLIVINGAPARTMENTS_MODE',\n",
    "       'NONLIVINGAREA_MODE', 'APARTMENTS_MEDI', 'BASEMENTAREA_MEDI','OCCUPATION_TYPE',\n",
    "       'YEARS_BEGINEXPLUATATION_MEDI', 'YEARS_BUILD_MEDI', 'COMMONAREA_MEDI',\n",
    "       'ELEVATORS_MEDI', 'ENTRANCES_MEDI', 'FLOORSMAX_MEDI', 'FLOORSMIN_MEDI',\n",
    "       'LANDAREA_MEDI', 'LIVINGAPARTMENTS_MEDI', 'LIVINGAREA_MEDI',\n",
    "       'NONLIVINGAPARTMENTS_MEDI', 'NONLIVINGAREA_MEDI', 'TOTALAREA_MODE'],axis=1,inplace=True)"
   ]
  },
  {
   "cell_type": "code",
   "execution_count": 13,
   "id": "45965a96",
   "metadata": {
    "execution": {
     "iopub.execute_input": "2022-07-08T04:17:13.743177Z",
     "iopub.status.busy": "2022-07-08T04:17:13.742459Z",
     "iopub.status.idle": "2022-07-08T04:17:13.749284Z",
     "shell.execute_reply": "2022-07-08T04:17:13.748212Z"
    },
    "id": "WtKXUEePr79A",
    "outputId": "3e3525ff-26fe-4168-d839-86a4037d71b8",
    "papermill": {
     "duration": 0.022036,
     "end_time": "2022-07-08T04:17:13.751367",
     "exception": false,
     "start_time": "2022-07-08T04:17:13.729331",
     "status": "completed"
    },
    "tags": []
   },
   "outputs": [
    {
     "data": {
      "text/plain": [
       "Index(['TARGET', 'AMT_INCOME_TOTAL', 'AMT_CREDIT', 'AMT_ANNUITY',\n",
       "       'AMT_GOODS_PRICE', 'NAME_INCOME_TYPE', 'HOUR_APPR_PROCESS_START',\n",
       "       'ORGANIZATION_TYPE'],\n",
       "      dtype='object')"
      ]
     },
     "execution_count": 13,
     "metadata": {},
     "output_type": "execute_result"
    }
   ],
   "source": [
    "df.columns"
   ]
  },
  {
   "cell_type": "code",
   "execution_count": 14,
   "id": "5b065682",
   "metadata": {
    "execution": {
     "iopub.execute_input": "2022-07-08T04:17:13.776546Z",
     "iopub.status.busy": "2022-07-08T04:17:13.775447Z",
     "iopub.status.idle": "2022-07-08T04:17:13.781644Z",
     "shell.execute_reply": "2022-07-08T04:17:13.780668Z"
    },
    "id": "XxbKo3CRr-LN",
    "outputId": "5b8a6240-62ad-4564-bcd2-22532ea44f30",
    "papermill": {
     "duration": 0.020796,
     "end_time": "2022-07-08T04:17:13.783682",
     "exception": false,
     "start_time": "2022-07-08T04:17:13.762886",
     "status": "completed"
    },
    "tags": []
   },
   "outputs": [
    {
     "data": {
      "text/plain": [
       "(307511, 8)"
      ]
     },
     "execution_count": 14,
     "metadata": {},
     "output_type": "execute_result"
    }
   ],
   "source": [
    "df.shape"
   ]
  },
  {
   "cell_type": "code",
   "execution_count": 15,
   "id": "534e8553",
   "metadata": {
    "execution": {
     "iopub.execute_input": "2022-07-08T04:17:13.808926Z",
     "iopub.status.busy": "2022-07-08T04:17:13.808450Z",
     "iopub.status.idle": "2022-07-08T04:17:13.858216Z",
     "shell.execute_reply": "2022-07-08T04:17:13.856877Z"
    },
    "id": "CoUrEr78IdfW",
    "outputId": "2ff5fbd7-168d-43f2-96ae-8bd967f778db",
    "papermill": {
     "duration": 0.065924,
     "end_time": "2022-07-08T04:17:13.861364",
     "exception": false,
     "start_time": "2022-07-08T04:17:13.795440",
     "status": "completed"
    },
    "tags": []
   },
   "outputs": [
    {
     "name": "stdout",
     "output_type": "stream",
     "text": [
      "<class 'pandas.core.frame.DataFrame'>\n",
      "RangeIndex: 307511 entries, 0 to 307510\n",
      "Data columns (total 8 columns):\n",
      " #   Column                   Non-Null Count   Dtype  \n",
      "---  ------                   --------------   -----  \n",
      " 0   TARGET                   307511 non-null  int64  \n",
      " 1   AMT_INCOME_TOTAL         307511 non-null  float64\n",
      " 2   AMT_CREDIT               307511 non-null  float64\n",
      " 3   AMT_ANNUITY              307499 non-null  float64\n",
      " 4   AMT_GOODS_PRICE          307233 non-null  float64\n",
      " 5   NAME_INCOME_TYPE         307511 non-null  object \n",
      " 6   HOUR_APPR_PROCESS_START  307511 non-null  int64  \n",
      " 7   ORGANIZATION_TYPE        307511 non-null  object \n",
      "dtypes: float64(4), int64(2), object(2)\n",
      "memory usage: 18.8+ MB\n"
     ]
    }
   ],
   "source": [
    "df.info()"
   ]
  },
  {
   "cell_type": "code",
   "execution_count": 16,
   "id": "ad7db440",
   "metadata": {
    "execution": {
     "iopub.execute_input": "2022-07-08T04:17:13.886976Z",
     "iopub.status.busy": "2022-07-08T04:17:13.886592Z",
     "iopub.status.idle": "2022-07-08T04:17:14.019516Z",
     "shell.execute_reply": "2022-07-08T04:17:14.018336Z"
    },
    "papermill": {
     "duration": 0.148731,
     "end_time": "2022-07-08T04:17:14.022281",
     "exception": false,
     "start_time": "2022-07-08T04:17:13.873550",
     "status": "completed"
    },
    "tags": []
   },
   "outputs": [
    {
     "data": {
      "text/html": [
       "<div>\n",
       "<style scoped>\n",
       "    .dataframe tbody tr th:only-of-type {\n",
       "        vertical-align: middle;\n",
       "    }\n",
       "\n",
       "    .dataframe tbody tr th {\n",
       "        vertical-align: top;\n",
       "    }\n",
       "\n",
       "    .dataframe thead th {\n",
       "        text-align: right;\n",
       "    }\n",
       "</style>\n",
       "<table border=\"1\" class=\"dataframe\">\n",
       "  <thead>\n",
       "    <tr style=\"text-align: right;\">\n",
       "      <th></th>\n",
       "      <th>TARGET</th>\n",
       "      <th>AMT_INCOME_TOTAL</th>\n",
       "      <th>AMT_CREDIT</th>\n",
       "      <th>AMT_ANNUITY</th>\n",
       "      <th>AMT_GOODS_PRICE</th>\n",
       "      <th>HOUR_APPR_PROCESS_START</th>\n",
       "    </tr>\n",
       "  </thead>\n",
       "  <tbody>\n",
       "    <tr>\n",
       "      <th>count</th>\n",
       "      <td>307511.000000</td>\n",
       "      <td>3.075110e+05</td>\n",
       "      <td>3.075110e+05</td>\n",
       "      <td>307499.000000</td>\n",
       "      <td>3.072330e+05</td>\n",
       "      <td>307511.000000</td>\n",
       "    </tr>\n",
       "    <tr>\n",
       "      <th>mean</th>\n",
       "      <td>0.080729</td>\n",
       "      <td>1.687979e+05</td>\n",
       "      <td>5.990260e+05</td>\n",
       "      <td>27108.573909</td>\n",
       "      <td>5.383962e+05</td>\n",
       "      <td>12.063419</td>\n",
       "    </tr>\n",
       "    <tr>\n",
       "      <th>std</th>\n",
       "      <td>0.272419</td>\n",
       "      <td>2.371231e+05</td>\n",
       "      <td>4.024908e+05</td>\n",
       "      <td>14493.737315</td>\n",
       "      <td>3.694465e+05</td>\n",
       "      <td>3.265832</td>\n",
       "    </tr>\n",
       "    <tr>\n",
       "      <th>min</th>\n",
       "      <td>0.000000</td>\n",
       "      <td>2.565000e+04</td>\n",
       "      <td>4.500000e+04</td>\n",
       "      <td>1615.500000</td>\n",
       "      <td>4.050000e+04</td>\n",
       "      <td>0.000000</td>\n",
       "    </tr>\n",
       "    <tr>\n",
       "      <th>25%</th>\n",
       "      <td>0.000000</td>\n",
       "      <td>1.125000e+05</td>\n",
       "      <td>2.700000e+05</td>\n",
       "      <td>16524.000000</td>\n",
       "      <td>2.385000e+05</td>\n",
       "      <td>10.000000</td>\n",
       "    </tr>\n",
       "    <tr>\n",
       "      <th>50%</th>\n",
       "      <td>0.000000</td>\n",
       "      <td>1.471500e+05</td>\n",
       "      <td>5.135310e+05</td>\n",
       "      <td>24903.000000</td>\n",
       "      <td>4.500000e+05</td>\n",
       "      <td>12.000000</td>\n",
       "    </tr>\n",
       "    <tr>\n",
       "      <th>75%</th>\n",
       "      <td>0.000000</td>\n",
       "      <td>2.025000e+05</td>\n",
       "      <td>8.086500e+05</td>\n",
       "      <td>34596.000000</td>\n",
       "      <td>6.795000e+05</td>\n",
       "      <td>14.000000</td>\n",
       "    </tr>\n",
       "    <tr>\n",
       "      <th>max</th>\n",
       "      <td>1.000000</td>\n",
       "      <td>1.170000e+08</td>\n",
       "      <td>4.050000e+06</td>\n",
       "      <td>258025.500000</td>\n",
       "      <td>4.050000e+06</td>\n",
       "      <td>23.000000</td>\n",
       "    </tr>\n",
       "  </tbody>\n",
       "</table>\n",
       "</div>"
      ],
      "text/plain": [
       "              TARGET  AMT_INCOME_TOTAL    AMT_CREDIT    AMT_ANNUITY  \\\n",
       "count  307511.000000      3.075110e+05  3.075110e+05  307499.000000   \n",
       "mean        0.080729      1.687979e+05  5.990260e+05   27108.573909   \n",
       "std         0.272419      2.371231e+05  4.024908e+05   14493.737315   \n",
       "min         0.000000      2.565000e+04  4.500000e+04    1615.500000   \n",
       "25%         0.000000      1.125000e+05  2.700000e+05   16524.000000   \n",
       "50%         0.000000      1.471500e+05  5.135310e+05   24903.000000   \n",
       "75%         0.000000      2.025000e+05  8.086500e+05   34596.000000   \n",
       "max         1.000000      1.170000e+08  4.050000e+06  258025.500000   \n",
       "\n",
       "       AMT_GOODS_PRICE  HOUR_APPR_PROCESS_START  \n",
       "count     3.072330e+05            307511.000000  \n",
       "mean      5.383962e+05                12.063419  \n",
       "std       3.694465e+05                 3.265832  \n",
       "min       4.050000e+04                 0.000000  \n",
       "25%       2.385000e+05                10.000000  \n",
       "50%       4.500000e+05                12.000000  \n",
       "75%       6.795000e+05                14.000000  \n",
       "max       4.050000e+06                23.000000  "
      ]
     },
     "execution_count": 16,
     "metadata": {},
     "output_type": "execute_result"
    }
   ],
   "source": [
    "df.describe()"
   ]
  },
  {
   "cell_type": "markdown",
   "id": "fdd78b07",
   "metadata": {
    "papermill": {
     "duration": 0.012635,
     "end_time": "2022-07-08T04:17:14.047039",
     "exception": false,
     "start_time": "2022-07-08T04:17:14.034404",
     "status": "completed"
    },
    "tags": []
   },
   "source": [
    "**Missing Numbes**"
   ]
  },
  {
   "cell_type": "code",
   "execution_count": 17,
   "id": "f6de9dc2",
   "metadata": {
    "execution": {
     "iopub.execute_input": "2022-07-08T04:17:14.083148Z",
     "iopub.status.busy": "2022-07-08T04:17:14.073415Z",
     "iopub.status.idle": "2022-07-08T04:17:14.090569Z",
     "shell.execute_reply": "2022-07-08T04:17:14.089789Z"
    },
    "papermill": {
     "duration": 0.033354,
     "end_time": "2022-07-08T04:17:14.092922",
     "exception": false,
     "start_time": "2022-07-08T04:17:14.059568",
     "status": "completed"
    },
    "tags": []
   },
   "outputs": [],
   "source": [
    "def missing (df1):\n",
    "    missing_number = df1.isnull().sum().sort_values(ascending=False)\n",
    "    missing_percent = ((df1.isnull().sum()/df1.isnull().count())*100).sort_values(ascending=False)\n",
    "    missing_values = pd.concat([missing_number, missing_percent], axis=1, keys=['Missing_Number', 'Missing_Percent'])\n",
    "    return missing_values"
   ]
  },
  {
   "cell_type": "markdown",
   "id": "95149c37",
   "metadata": {
    "papermill": {
     "duration": 0.011419,
     "end_time": "2022-07-08T04:17:14.116450",
     "exception": false,
     "start_time": "2022-07-08T04:17:14.105031",
     "status": "completed"
    },
    "tags": []
   },
   "source": [
    "**Fill Null values with Mean, median and Mode**"
   ]
  },
  {
   "cell_type": "code",
   "execution_count": 18,
   "id": "dbc70d94",
   "metadata": {
    "execution": {
     "iopub.execute_input": "2022-07-08T04:17:14.142113Z",
     "iopub.status.busy": "2022-07-08T04:17:14.141591Z",
     "iopub.status.idle": "2022-07-08T04:17:14.182104Z",
     "shell.execute_reply": "2022-07-08T04:17:14.180885Z"
    },
    "id": "wCXiYutGskFD",
    "outputId": "9235ce4a-cc66-4654-f3cb-1de25f10ce0d",
    "papermill": {
     "duration": 0.056174,
     "end_time": "2022-07-08T04:17:14.184447",
     "exception": false,
     "start_time": "2022-07-08T04:17:14.128273",
     "status": "completed"
    },
    "tags": []
   },
   "outputs": [
    {
     "data": {
      "text/plain": [
       "TARGET                       0\n",
       "AMT_INCOME_TOTAL             0\n",
       "AMT_CREDIT                   0\n",
       "AMT_ANNUITY                 12\n",
       "AMT_GOODS_PRICE            278\n",
       "NAME_INCOME_TYPE             0\n",
       "HOUR_APPR_PROCESS_START      0\n",
       "ORGANIZATION_TYPE            0\n",
       "dtype: int64"
      ]
     },
     "execution_count": 18,
     "metadata": {},
     "output_type": "execute_result"
    }
   ],
   "source": [
    "df.isnull().sum()"
   ]
  },
  {
   "cell_type": "code",
   "execution_count": 19,
   "id": "1528e2da",
   "metadata": {
    "execution": {
     "iopub.execute_input": "2022-07-08T04:17:14.220994Z",
     "iopub.status.busy": "2022-07-08T04:17:14.220541Z",
     "iopub.status.idle": "2022-07-08T04:17:14.378112Z",
     "shell.execute_reply": "2022-07-08T04:17:14.376832Z"
    },
    "papermill": {
     "duration": 0.17874,
     "end_time": "2022-07-08T04:17:14.381318",
     "exception": false,
     "start_time": "2022-07-08T04:17:14.202578",
     "status": "completed"
    },
    "tags": []
   },
   "outputs": [
    {
     "name": "stdout",
     "output_type": "stream",
     "text": [
      "        TARGET  AMT_INCOME_TOTAL  AMT_CREDIT  AMT_ANNUITY  AMT_GOODS_PRICE  \\\n",
      "0            1          202500.0    406597.5      24700.5         351000.0   \n",
      "1            0          270000.0   1293502.5      35698.5        1129500.0   \n",
      "2            0           67500.0    135000.0       6750.0         135000.0   \n",
      "3            0          135000.0    312682.5      29686.5         297000.0   \n",
      "4            0          121500.0    513000.0      21865.5         513000.0   \n",
      "...        ...               ...         ...          ...              ...   \n",
      "307506       0          157500.0    254700.0      27558.0         225000.0   \n",
      "307507       0           72000.0    269550.0      12001.5         225000.0   \n",
      "307508       0          153000.0    677664.0      29979.0         585000.0   \n",
      "307509       1          171000.0    370107.0      20205.0         319500.0   \n",
      "307510       0          157500.0    675000.0      49117.5         675000.0   \n",
      "\n",
      "            NAME_INCOME_TYPE  HOUR_APPR_PROCESS_START       ORGANIZATION_TYPE  \n",
      "0                    Working                       10  Business Entity Type 3  \n",
      "1              State servant                       11                  School  \n",
      "2                    Working                        9              Government  \n",
      "3                    Working                       17  Business Entity Type 3  \n",
      "4                    Working                       11                Religion  \n",
      "...                      ...                      ...                     ...  \n",
      "307506               Working                       15                Services  \n",
      "307507             Pensioner                        8                     XNA  \n",
      "307508               Working                        9                  School  \n",
      "307509  Commercial associate                        9  Business Entity Type 1  \n",
      "307510  Commercial associate                       20  Business Entity Type 3  \n",
      "\n",
      "[307511 rows x 8 columns]\n"
     ]
    }
   ],
   "source": [
    "#fill null values with mean,median ,mode\n",
    "for i in df.columns:\n",
    "    if df[i].dtypes == 'object':\n",
    "        df[i].fillna(df[i].mode()[0], inplace=True)\n",
    "    else:\n",
    "        df[i].fillna(df[i].median(), inplace=True)\n",
    "print(df)"
   ]
  },
  {
   "cell_type": "code",
   "execution_count": 20,
   "id": "6de2db25",
   "metadata": {
    "execution": {
     "iopub.execute_input": "2022-07-08T04:17:14.410221Z",
     "iopub.status.busy": "2022-07-08T04:17:14.409152Z",
     "iopub.status.idle": "2022-07-08T04:17:14.453517Z",
     "shell.execute_reply": "2022-07-08T04:17:14.451262Z"
    },
    "id": "FDw_vuI-3Y8p",
    "outputId": "ea04c75e-247d-4420-85bf-f716999e04cb",
    "papermill": {
     "duration": 0.061971,
     "end_time": "2022-07-08T04:17:14.456231",
     "exception": false,
     "start_time": "2022-07-08T04:17:14.394260",
     "status": "completed"
    },
    "tags": []
   },
   "outputs": [
    {
     "data": {
      "text/plain": [
       "TARGET                     0\n",
       "AMT_INCOME_TOTAL           0\n",
       "AMT_CREDIT                 0\n",
       "AMT_ANNUITY                0\n",
       "AMT_GOODS_PRICE            0\n",
       "NAME_INCOME_TYPE           0\n",
       "HOUR_APPR_PROCESS_START    0\n",
       "ORGANIZATION_TYPE          0\n",
       "dtype: int64"
      ]
     },
     "execution_count": 20,
     "metadata": {},
     "output_type": "execute_result"
    }
   ],
   "source": [
    "df.isnull().sum()"
   ]
  },
  {
   "cell_type": "code",
   "execution_count": 21,
   "id": "828d80e7",
   "metadata": {
    "execution": {
     "iopub.execute_input": "2022-07-08T04:17:14.484145Z",
     "iopub.status.busy": "2022-07-08T04:17:14.483269Z",
     "iopub.status.idle": "2022-07-08T04:17:14.501519Z",
     "shell.execute_reply": "2022-07-08T04:17:14.500583Z"
    },
    "id": "2wW9dzmES9zf",
    "outputId": "6a785756-e1a7-4d91-9eb0-aa38ddc1cc71",
    "papermill": {
     "duration": 0.034949,
     "end_time": "2022-07-08T04:17:14.503915",
     "exception": false,
     "start_time": "2022-07-08T04:17:14.468966",
     "status": "completed"
    },
    "tags": []
   },
   "outputs": [
    {
     "data": {
      "text/html": [
       "<div>\n",
       "<style scoped>\n",
       "    .dataframe tbody tr th:only-of-type {\n",
       "        vertical-align: middle;\n",
       "    }\n",
       "\n",
       "    .dataframe tbody tr th {\n",
       "        vertical-align: top;\n",
       "    }\n",
       "\n",
       "    .dataframe thead th {\n",
       "        text-align: right;\n",
       "    }\n",
       "</style>\n",
       "<table border=\"1\" class=\"dataframe\">\n",
       "  <thead>\n",
       "    <tr style=\"text-align: right;\">\n",
       "      <th></th>\n",
       "      <th>TARGET</th>\n",
       "      <th>AMT_INCOME_TOTAL</th>\n",
       "      <th>AMT_CREDIT</th>\n",
       "      <th>AMT_ANNUITY</th>\n",
       "      <th>AMT_GOODS_PRICE</th>\n",
       "      <th>NAME_INCOME_TYPE</th>\n",
       "      <th>HOUR_APPR_PROCESS_START</th>\n",
       "      <th>ORGANIZATION_TYPE</th>\n",
       "    </tr>\n",
       "  </thead>\n",
       "  <tbody>\n",
       "    <tr>\n",
       "      <th>0</th>\n",
       "      <td>1</td>\n",
       "      <td>202500.0</td>\n",
       "      <td>406597.5</td>\n",
       "      <td>24700.5</td>\n",
       "      <td>351000.0</td>\n",
       "      <td>Working</td>\n",
       "      <td>10</td>\n",
       "      <td>Business Entity Type 3</td>\n",
       "    </tr>\n",
       "    <tr>\n",
       "      <th>1</th>\n",
       "      <td>0</td>\n",
       "      <td>270000.0</td>\n",
       "      <td>1293502.5</td>\n",
       "      <td>35698.5</td>\n",
       "      <td>1129500.0</td>\n",
       "      <td>State servant</td>\n",
       "      <td>11</td>\n",
       "      <td>School</td>\n",
       "    </tr>\n",
       "    <tr>\n",
       "      <th>2</th>\n",
       "      <td>0</td>\n",
       "      <td>67500.0</td>\n",
       "      <td>135000.0</td>\n",
       "      <td>6750.0</td>\n",
       "      <td>135000.0</td>\n",
       "      <td>Working</td>\n",
       "      <td>9</td>\n",
       "      <td>Government</td>\n",
       "    </tr>\n",
       "    <tr>\n",
       "      <th>3</th>\n",
       "      <td>0</td>\n",
       "      <td>135000.0</td>\n",
       "      <td>312682.5</td>\n",
       "      <td>29686.5</td>\n",
       "      <td>297000.0</td>\n",
       "      <td>Working</td>\n",
       "      <td>17</td>\n",
       "      <td>Business Entity Type 3</td>\n",
       "    </tr>\n",
       "    <tr>\n",
       "      <th>4</th>\n",
       "      <td>0</td>\n",
       "      <td>121500.0</td>\n",
       "      <td>513000.0</td>\n",
       "      <td>21865.5</td>\n",
       "      <td>513000.0</td>\n",
       "      <td>Working</td>\n",
       "      <td>11</td>\n",
       "      <td>Religion</td>\n",
       "    </tr>\n",
       "  </tbody>\n",
       "</table>\n",
       "</div>"
      ],
      "text/plain": [
       "   TARGET  AMT_INCOME_TOTAL  AMT_CREDIT  AMT_ANNUITY  AMT_GOODS_PRICE  \\\n",
       "0       1          202500.0    406597.5      24700.5         351000.0   \n",
       "1       0          270000.0   1293502.5      35698.5        1129500.0   \n",
       "2       0           67500.0    135000.0       6750.0         135000.0   \n",
       "3       0          135000.0    312682.5      29686.5         297000.0   \n",
       "4       0          121500.0    513000.0      21865.5         513000.0   \n",
       "\n",
       "  NAME_INCOME_TYPE  HOUR_APPR_PROCESS_START       ORGANIZATION_TYPE  \n",
       "0          Working                       10  Business Entity Type 3  \n",
       "1    State servant                       11                  School  \n",
       "2          Working                        9              Government  \n",
       "3          Working                       17  Business Entity Type 3  \n",
       "4          Working                       11                Religion  "
      ]
     },
     "execution_count": 21,
     "metadata": {},
     "output_type": "execute_result"
    }
   ],
   "source": [
    "df.head()"
   ]
  },
  {
   "cell_type": "markdown",
   "id": "7445b7c1",
   "metadata": {
    "papermill": {
     "duration": 0.013472,
     "end_time": "2022-07-08T04:17:14.530323",
     "exception": false,
     "start_time": "2022-07-08T04:17:14.516851",
     "status": "completed"
    },
    "tags": []
   },
   "source": [
    "**Split the Numeric and Catagorical Data**"
   ]
  },
  {
   "cell_type": "code",
   "execution_count": 22,
   "id": "d8733e3e",
   "metadata": {
    "execution": {
     "iopub.execute_input": "2022-07-08T04:17:14.558632Z",
     "iopub.status.busy": "2022-07-08T04:17:14.558245Z",
     "iopub.status.idle": "2022-07-08T04:17:14.596814Z",
     "shell.execute_reply": "2022-07-08T04:17:14.595333Z"
    },
    "papermill": {
     "duration": 0.056609,
     "end_time": "2022-07-08T04:17:14.600275",
     "exception": false,
     "start_time": "2022-07-08T04:17:14.543666",
     "status": "completed"
    },
    "tags": []
   },
   "outputs": [
    {
     "name": "stdout",
     "output_type": "stream",
     "text": [
      "Numerical Columns:  Index(['AMT_INCOME_TOTAL', 'AMT_CREDIT', 'AMT_ANNUITY', 'AMT_GOODS_PRICE',\n",
      "       'HOUR_APPR_PROCESS_START'],\n",
      "      dtype='object')\n",
      "\n",
      "\n",
      "Categorical Columns: Index(['NAME_INCOME_TYPE', 'ORGANIZATION_TYPE'], dtype='object')\n"
     ]
    }
   ],
   "source": [
    "# finding numerical data and categorical data in dataset\n",
    "numerical= df.drop(['TARGET'], axis=1).select_dtypes('number').columns\n",
    "\n",
    "categorical = df.select_dtypes('object').columns\n",
    "\n",
    "print(f'Numerical Columns:  {df[numerical].columns}')\n",
    "print('\\n')\n",
    "print(f'Categorical Columns: {df[categorical].columns}')"
   ]
  },
  {
   "cell_type": "markdown",
   "id": "dfdb31de",
   "metadata": {
    "papermill": {
     "duration": 0.014585,
     "end_time": "2022-07-08T04:17:14.639000",
     "exception": false,
     "start_time": "2022-07-08T04:17:14.624415",
     "status": "completed"
    },
    "tags": []
   },
   "source": [
    "**Count Plot**"
   ]
  },
  {
   "cell_type": "markdown",
   "id": "fd23e970",
   "metadata": {
    "papermill": {
     "duration": 0.013559,
     "end_time": "2022-07-08T04:17:14.899189",
     "exception": false,
     "start_time": "2022-07-08T04:17:14.885630",
     "status": "completed"
    },
    "tags": []
   },
   "source": [
    "**Apply the Label Encoding**"
   ]
  },
  {
   "cell_type": "markdown",
   "id": "ec083eef",
   "metadata": {
    "papermill": {
     "duration": 0.012488,
     "end_time": "2022-07-08T04:17:14.925347",
     "exception": false,
     "start_time": "2022-07-08T04:17:14.912859",
     "status": "completed"
    },
    "tags": []
   },
   "source": [
    "Label encoding is the process of transforming labels into a numeric form so that they may be read by machines. The operation of those labels can then be better determined by machine learning techniques. It is a significant supervised learning pre-processing step for the structured dataset."
   ]
  },
  {
   "cell_type": "code",
   "execution_count": 23,
   "id": "c5a834a0",
   "metadata": {
    "execution": {
     "iopub.execute_input": "2022-07-08T04:17:14.953677Z",
     "iopub.status.busy": "2022-07-08T04:17:14.952839Z",
     "iopub.status.idle": "2022-07-08T04:17:15.029225Z",
     "shell.execute_reply": "2022-07-08T04:17:15.027816Z"
    },
    "id": "zpna9Ox-SmXg",
    "outputId": "4fa94dd8-1fd7-47a0-bb01-15e59eb7101d",
    "papermill": {
     "duration": 0.093723,
     "end_time": "2022-07-08T04:17:15.031907",
     "exception": false,
     "start_time": "2022-07-08T04:17:14.938184",
     "status": "completed"
    },
    "tags": []
   },
   "outputs": [
    {
     "data": {
      "text/plain": [
       "0         7\n",
       "1         4\n",
       "2         7\n",
       "3         7\n",
       "4         7\n",
       "         ..\n",
       "307506    7\n",
       "307507    3\n",
       "307508    7\n",
       "307509    1\n",
       "307510    1\n",
       "Name: NAME_INCOME_TYPE, Length: 307511, dtype: int32"
      ]
     },
     "execution_count": 23,
     "metadata": {},
     "output_type": "execute_result"
    }
   ],
   "source": [
    "# Import label encoder\n",
    "from sklearn import preprocessing\n",
    "\n",
    "# label_encoder object knows how to understand word labels.\n",
    "label_encoder = preprocessing.LabelEncoder()\n",
    "\n",
    "# Encode labels in column 'species'.\n",
    "df['NAME_INCOME_TYPE']= label_encoder.fit_transform(df['NAME_INCOME_TYPE'])\n",
    "\n",
    "df['NAME_INCOME_TYPE']"
   ]
  },
  {
   "cell_type": "code",
   "execution_count": 24,
   "id": "430a4252",
   "metadata": {
    "execution": {
     "iopub.execute_input": "2022-07-08T04:17:15.059888Z",
     "iopub.status.busy": "2022-07-08T04:17:15.059443Z",
     "iopub.status.idle": "2022-07-08T04:17:15.136984Z",
     "shell.execute_reply": "2022-07-08T04:17:15.135764Z"
    },
    "id": "3SvbRpalT1PA",
    "outputId": "ecd1e6fc-dae2-4040-ad29-bbf09ca4b7f0",
    "papermill": {
     "duration": 0.094358,
     "end_time": "2022-07-08T04:17:15.139549",
     "exception": false,
     "start_time": "2022-07-08T04:17:15.045191",
     "status": "completed"
    },
    "tags": []
   },
   "outputs": [
    {
     "data": {
      "text/plain": [
       "0          5\n",
       "1         39\n",
       "2         11\n",
       "3          5\n",
       "4         37\n",
       "          ..\n",
       "307506    43\n",
       "307507    57\n",
       "307508    39\n",
       "307509     3\n",
       "307510     5\n",
       "Name: ORGANIZATION_TYPE, Length: 307511, dtype: int32"
      ]
     },
     "execution_count": 24,
     "metadata": {},
     "output_type": "execute_result"
    }
   ],
   "source": [
    "# Import label encoder\n",
    "from sklearn import preprocessing\n",
    "\n",
    "# label_encoder object knows how to understand word labels.\n",
    "label_encoder = preprocessing.LabelEncoder()\n",
    "\n",
    "# Encode labels in column 'species'.\n",
    "df['ORGANIZATION_TYPE']= label_encoder.fit_transform(df['ORGANIZATION_TYPE'])\n",
    "\n",
    "df['ORGANIZATION_TYPE']"
   ]
  },
  {
   "cell_type": "markdown",
   "id": "6adbd878",
   "metadata": {
    "papermill": {
     "duration": 0.013208,
     "end_time": "2022-07-08T04:17:15.166520",
     "exception": false,
     "start_time": "2022-07-08T04:17:15.153312",
     "status": "completed"
    },
    "tags": []
   },
   "source": [
    "**Find out Statistical values**"
   ]
  },
  {
   "cell_type": "code",
   "execution_count": 25,
   "id": "0c707e37",
   "metadata": {
    "execution": {
     "iopub.execute_input": "2022-07-08T04:17:15.195976Z",
     "iopub.status.busy": "2022-07-08T04:17:15.194747Z",
     "iopub.status.idle": "2022-07-08T04:17:15.465758Z",
     "shell.execute_reply": "2022-07-08T04:17:15.464500Z"
    },
    "papermill": {
     "duration": 0.289507,
     "end_time": "2022-07-08T04:17:15.469424",
     "exception": false,
     "start_time": "2022-07-08T04:17:15.179917",
     "status": "completed"
    },
    "tags": []
   },
   "outputs": [
    {
     "name": "stdout",
     "output_type": "stream",
     "text": [
      "column name TARGET\n",
      "mean: 0.08072881945686496\n",
      "mode: 0\n",
      "median: 0.0\n",
      "skewness: 3.0781586659196685\n",
      "kurtosis: 7.475109389392569\n",
      "null_value count: 0\n",
      "\n",
      "\n",
      "column name AMT_INCOME_TOTAL\n",
      "mean: 168797.9192969845\n",
      "mode: 135000.0\n",
      "median: 147150.0\n",
      "skewness: 391.5596541041876\n",
      "kurtosis: 191786.55438080415\n",
      "null_value count: 0\n",
      "\n",
      "\n",
      "column name AMT_CREDIT\n",
      "mean: 599025.9997057016\n",
      "mode: 450000.0\n",
      "median: 513531.0\n",
      "skewness: 1.2347784971349398\n",
      "kurtosis: 1.9340413008324937\n",
      "null_value count: 0\n",
      "\n",
      "\n",
      "column name AMT_ANNUITY\n",
      "mean: 27108.48784108536\n",
      "mode: 9000.0\n",
      "median: 24903.0\n",
      "skewness: 1.5798237246955467\n",
      "kurtosis: 7.7077559537369025\n",
      "null_value count: 0\n",
      "\n",
      "\n",
      "column name AMT_GOODS_PRICE\n",
      "mean: 538316.2943667056\n",
      "mode: 450000.0\n",
      "median: 450000.0\n",
      "skewness: 1.350142549635089\n",
      "kurtosis: 2.4374401731304225\n",
      "null_value count: 0\n",
      "\n",
      "\n",
      "column name NAME_INCOME_TYPE\n",
      "mean: 4.670288217332063\n",
      "mode: 7\n",
      "median: 7.0\n",
      "skewness: -0.3550757581538051\n",
      "kurtosis: -1.5948494738474766\n",
      "null_value count: 0\n",
      "\n",
      "\n",
      "column name HOUR_APPR_PROCESS_START\n",
      "mean: 12.063418869568894\n",
      "mode: 10\n",
      "median: 12.0\n",
      "skewness: -0.02802445946067513\n",
      "kurtosis: -0.19417286553041757\n",
      "null_value count: 0\n",
      "\n",
      "\n",
      "column name ORGANIZATION_TYPE\n",
      "mean: 29.450429415533105\n",
      "mode: 5\n",
      "median: 33.0\n",
      "skewness: -0.022512675713170067\n",
      "kurtosis: -1.5467897462757254\n",
      "null_value count: 0\n",
      "\n",
      "\n"
     ]
    }
   ],
   "source": [
    "for col in df.columns:\n",
    "    if df[col].dtypes != object:\n",
    "        q1 = df[col].quantile(0.25)\n",
    "        q3 = df[col].quantile(0.75)\n",
    "        IQR = q3 - q1\n",
    "        llp = q1-1.5*IQR\n",
    "        ulp = q3+1.5*IQR\n",
    "        print('column name',col)\n",
    "        print('mean:',df[col].mean())\n",
    "        print('mode:',df[col].mode()[0])\n",
    "        print('median:',df[col].median())\n",
    "        print('skewness:',df[col].skew())\n",
    "        print('kurtosis:',df[col].kurtosis())\n",
    "        print('null_value count:',df[col].isnull().sum())\n",
    "        print('\\n')"
   ]
  },
  {
   "cell_type": "markdown",
   "id": "ec2d1248",
   "metadata": {
    "papermill": {
     "duration": 0.012873,
     "end_time": "2022-07-08T04:17:15.496458",
     "exception": false,
     "start_time": "2022-07-08T04:17:15.483585",
     "status": "completed"
    },
    "tags": []
   },
   "source": [
    "**Outliers**"
   ]
  },
  {
   "cell_type": "markdown",
   "id": "056dd9df",
   "metadata": {
    "papermill": {
     "duration": 0.012945,
     "end_time": "2022-07-08T04:17:15.522885",
     "exception": false,
     "start_time": "2022-07-08T04:17:15.509940",
     "status": "completed"
    },
    "tags": []
   },
   "source": [
    "A data point that is an outlier in a data graph or dataset you are dealing with is one that is extraordinarily high or extraordinarily low in comparison to the nearest data point and the rest of the nearby coexisting values. Outliers in a dataset or graph are extreme values that stand out significantly from the main pattern of values."
   ]
  },
  {
   "cell_type": "code",
   "execution_count": 26,
   "id": "d0e2fb7a",
   "metadata": {
    "execution": {
     "iopub.execute_input": "2022-07-08T04:17:16.697713Z",
     "iopub.status.busy": "2022-07-08T04:17:16.696875Z",
     "iopub.status.idle": "2022-07-08T04:17:16.706023Z",
     "shell.execute_reply": "2022-07-08T04:17:16.705113Z"
    },
    "papermill": {
     "duration": 0.028152,
     "end_time": "2022-07-08T04:17:16.708648",
     "exception": false,
     "start_time": "2022-07-08T04:17:16.680496",
     "status": "completed"
    },
    "tags": []
   },
   "outputs": [],
   "source": [
    "def out_to_null(data=df):\n",
    "    for x in df.columns:\n",
    "        if df[x].dtypes ==np.float64:\n",
    "            #In the given column the outliers will convert into null values\n",
    "            print('\\n\\n Column name:', x)\n",
    "            q1=data[x].quantile(0.25)\n",
    "            print('Quatile, Q1: ',q1)\n",
    "            q3=data[x].quantile(0.75)\n",
    "            print('Quatile, Q3: ',q3)\n",
    "            iqr=q3-q1\n",
    "            print('Inter Quatile Range, IQR: ',iqr)\n",
    "            ulp=q3+(1.5*iqr)\n",
    "            print('Upper Limit Point, ULP: ',ulp)\n",
    "            llp=q1-(1.5*iqr)\n",
    "            print('Lower Limit Point, LLP: ',llp)\n",
    "            #here the values which are above upperlimit and below lowerlimt are replaced with null values          \n",
    "            data[x]=np.where(data[x] > ulp,np.nan,\n",
    "                                   np.where(data[x] < llp,np.nan ,data[x]))\n",
    "            print('\\n\\nin the given column the outliers are replaced with null values\\n')"
   ]
  },
  {
   "cell_type": "markdown",
   "id": "e698b5a6",
   "metadata": {
    "papermill": {
     "duration": 0.022133,
     "end_time": "2022-07-08T04:17:16.745550",
     "exception": false,
     "start_time": "2022-07-08T04:17:16.723417",
     "status": "completed"
    },
    "tags": []
   },
   "source": [
    "**PairPlot**"
   ]
  },
  {
   "cell_type": "code",
   "execution_count": 27,
   "id": "d9b701c2",
   "metadata": {
    "execution": {
     "iopub.execute_input": "2022-07-08T04:17:16.781682Z",
     "iopub.status.busy": "2022-07-08T04:17:16.780553Z",
     "iopub.status.idle": "2022-07-08T04:17:29.367400Z",
     "shell.execute_reply": "2022-07-08T04:17:29.365895Z"
    },
    "papermill": {
     "duration": 12.607149,
     "end_time": "2022-07-08T04:17:29.370427",
     "exception": false,
     "start_time": "2022-07-08T04:17:16.763278",
     "status": "completed"
    },
    "tags": []
   },
   "outputs": [],
   "source": [
    "#count=1\n",
    "#plt.subplots(figsize=(30,25))\n",
    "#for i in df.columns:\n",
    "#    if df[i].dtypes!='object':\n",
    "#        plt.subplot(6,7,count)\n",
    "#        sns.distplot(df[i])\n",
    "#        count+=1\n",
    "#\n",
    "#plt.show()"
   ]
  },
  {
   "cell_type": "markdown",
   "id": "9daf45a3",
   "metadata": {
    "papermill": {
     "duration": 0.016198,
     "end_time": "2022-07-08T04:17:29.403162",
     "exception": false,
     "start_time": "2022-07-08T04:17:29.386964",
     "status": "completed"
    },
    "tags": []
   },
   "source": [
    "**Correlation**"
   ]
  },
  {
   "cell_type": "markdown",
   "id": "abf066f4",
   "metadata": {
    "papermill": {
     "duration": 0.015898,
     "end_time": "2022-07-08T04:17:29.435485",
     "exception": false,
     "start_time": "2022-07-08T04:17:29.419587",
     "status": "completed"
    },
    "tags": []
   },
   "source": [
    "Correlation is the relationship between target variable and feature variables."
   ]
  },
  {
   "cell_type": "code",
   "execution_count": 28,
   "id": "070072b5",
   "metadata": {
    "execution": {
     "iopub.execute_input": "2022-07-08T04:17:29.472033Z",
     "iopub.status.busy": "2022-07-08T04:17:29.470593Z",
     "iopub.status.idle": "2022-07-08T04:17:29.588900Z",
     "shell.execute_reply": "2022-07-08T04:17:29.587547Z"
    },
    "papermill": {
     "duration": 0.139002,
     "end_time": "2022-07-08T04:17:29.591357",
     "exception": false,
     "start_time": "2022-07-08T04:17:29.452355",
     "status": "completed"
    },
    "tags": []
   },
   "outputs": [
    {
     "data": {
      "text/html": [
       "<div>\n",
       "<style scoped>\n",
       "    .dataframe tbody tr th:only-of-type {\n",
       "        vertical-align: middle;\n",
       "    }\n",
       "\n",
       "    .dataframe tbody tr th {\n",
       "        vertical-align: top;\n",
       "    }\n",
       "\n",
       "    .dataframe thead th {\n",
       "        text-align: right;\n",
       "    }\n",
       "</style>\n",
       "<table border=\"1\" class=\"dataframe\">\n",
       "  <thead>\n",
       "    <tr style=\"text-align: right;\">\n",
       "      <th></th>\n",
       "      <th>TARGET</th>\n",
       "      <th>AMT_INCOME_TOTAL</th>\n",
       "      <th>AMT_CREDIT</th>\n",
       "      <th>AMT_ANNUITY</th>\n",
       "      <th>AMT_GOODS_PRICE</th>\n",
       "      <th>NAME_INCOME_TYPE</th>\n",
       "      <th>HOUR_APPR_PROCESS_START</th>\n",
       "      <th>ORGANIZATION_TYPE</th>\n",
       "    </tr>\n",
       "  </thead>\n",
       "  <tbody>\n",
       "    <tr>\n",
       "      <th>TARGET</th>\n",
       "      <td>1.000000</td>\n",
       "      <td>-0.003982</td>\n",
       "      <td>-0.030369</td>\n",
       "      <td>-0.012815</td>\n",
       "      <td>-0.039623</td>\n",
       "      <td>0.046829</td>\n",
       "      <td>-0.024166</td>\n",
       "      <td>-0.030765</td>\n",
       "    </tr>\n",
       "    <tr>\n",
       "      <th>AMT_INCOME_TOTAL</th>\n",
       "      <td>-0.003982</td>\n",
       "      <td>1.000000</td>\n",
       "      <td>0.156870</td>\n",
       "      <td>0.191657</td>\n",
       "      <td>0.159632</td>\n",
       "      <td>-0.044451</td>\n",
       "      <td>0.036459</td>\n",
       "      <td>-0.058272</td>\n",
       "    </tr>\n",
       "    <tr>\n",
       "      <th>AMT_CREDIT</th>\n",
       "      <td>-0.030369</td>\n",
       "      <td>0.156870</td>\n",
       "      <td>1.000000</td>\n",
       "      <td>0.770127</td>\n",
       "      <td>0.986734</td>\n",
       "      <td>-0.071794</td>\n",
       "      <td>0.052738</td>\n",
       "      <td>-0.052620</td>\n",
       "    </tr>\n",
       "    <tr>\n",
       "      <th>AMT_ANNUITY</th>\n",
       "      <td>-0.012815</td>\n",
       "      <td>0.191657</td>\n",
       "      <td>0.770127</td>\n",
       "      <td>1.000000</td>\n",
       "      <td>0.774837</td>\n",
       "      <td>-0.073018</td>\n",
       "      <td>0.052265</td>\n",
       "      <td>-0.077215</td>\n",
       "    </tr>\n",
       "    <tr>\n",
       "      <th>AMT_GOODS_PRICE</th>\n",
       "      <td>-0.039623</td>\n",
       "      <td>0.159632</td>\n",
       "      <td>0.986734</td>\n",
       "      <td>0.774837</td>\n",
       "      <td>1.000000</td>\n",
       "      <td>-0.072458</td>\n",
       "      <td>0.062269</td>\n",
       "      <td>-0.052060</td>\n",
       "    </tr>\n",
       "    <tr>\n",
       "      <th>NAME_INCOME_TYPE</th>\n",
       "      <td>0.046829</td>\n",
       "      <td>-0.044451</td>\n",
       "      <td>-0.071794</td>\n",
       "      <td>-0.073018</td>\n",
       "      <td>-0.072458</td>\n",
       "      <td>1.000000</td>\n",
       "      <td>-0.029674</td>\n",
       "      <td>-0.176226</td>\n",
       "    </tr>\n",
       "    <tr>\n",
       "      <th>HOUR_APPR_PROCESS_START</th>\n",
       "      <td>-0.024166</td>\n",
       "      <td>0.036459</td>\n",
       "      <td>0.052738</td>\n",
       "      <td>0.052265</td>\n",
       "      <td>0.062269</td>\n",
       "      <td>-0.029674</td>\n",
       "      <td>1.000000</td>\n",
       "      <td>-0.083595</td>\n",
       "    </tr>\n",
       "    <tr>\n",
       "      <th>ORGANIZATION_TYPE</th>\n",
       "      <td>-0.030765</td>\n",
       "      <td>-0.058272</td>\n",
       "      <td>-0.052620</td>\n",
       "      <td>-0.077215</td>\n",
       "      <td>-0.052060</td>\n",
       "      <td>-0.176226</td>\n",
       "      <td>-0.083595</td>\n",
       "      <td>1.000000</td>\n",
       "    </tr>\n",
       "  </tbody>\n",
       "</table>\n",
       "</div>"
      ],
      "text/plain": [
       "                           TARGET  AMT_INCOME_TOTAL  AMT_CREDIT  AMT_ANNUITY  \\\n",
       "TARGET                   1.000000         -0.003982   -0.030369    -0.012815   \n",
       "AMT_INCOME_TOTAL        -0.003982          1.000000    0.156870     0.191657   \n",
       "AMT_CREDIT              -0.030369          0.156870    1.000000     0.770127   \n",
       "AMT_ANNUITY             -0.012815          0.191657    0.770127     1.000000   \n",
       "AMT_GOODS_PRICE         -0.039623          0.159632    0.986734     0.774837   \n",
       "NAME_INCOME_TYPE         0.046829         -0.044451   -0.071794    -0.073018   \n",
       "HOUR_APPR_PROCESS_START -0.024166          0.036459    0.052738     0.052265   \n",
       "ORGANIZATION_TYPE       -0.030765         -0.058272   -0.052620    -0.077215   \n",
       "\n",
       "                         AMT_GOODS_PRICE  NAME_INCOME_TYPE  \\\n",
       "TARGET                         -0.039623          0.046829   \n",
       "AMT_INCOME_TOTAL                0.159632         -0.044451   \n",
       "AMT_CREDIT                      0.986734         -0.071794   \n",
       "AMT_ANNUITY                     0.774837         -0.073018   \n",
       "AMT_GOODS_PRICE                 1.000000         -0.072458   \n",
       "NAME_INCOME_TYPE               -0.072458          1.000000   \n",
       "HOUR_APPR_PROCESS_START         0.062269         -0.029674   \n",
       "ORGANIZATION_TYPE              -0.052060         -0.176226   \n",
       "\n",
       "                         HOUR_APPR_PROCESS_START  ORGANIZATION_TYPE  \n",
       "TARGET                                 -0.024166          -0.030765  \n",
       "AMT_INCOME_TOTAL                        0.036459          -0.058272  \n",
       "AMT_CREDIT                              0.052738          -0.052620  \n",
       "AMT_ANNUITY                             0.052265          -0.077215  \n",
       "AMT_GOODS_PRICE                         0.062269          -0.052060  \n",
       "NAME_INCOME_TYPE                       -0.029674          -0.176226  \n",
       "HOUR_APPR_PROCESS_START                 1.000000          -0.083595  \n",
       "ORGANIZATION_TYPE                      -0.083595           1.000000  "
      ]
     },
     "execution_count": 28,
     "metadata": {},
     "output_type": "execute_result"
    }
   ],
   "source": [
    "cor = df.corr()\n",
    "cor"
   ]
  },
  {
   "cell_type": "markdown",
   "id": "a81b3131",
   "metadata": {
    "papermill": {
     "duration": 0.017099,
     "end_time": "2022-07-08T04:17:29.625111",
     "exception": false,
     "start_time": "2022-07-08T04:17:29.608012",
     "status": "completed"
    },
    "tags": []
   },
   "source": [
    "**HeatMap**"
   ]
  },
  {
   "cell_type": "code",
   "execution_count": 29,
   "id": "8836df85",
   "metadata": {
    "execution": {
     "iopub.execute_input": "2022-07-08T04:17:29.661420Z",
     "iopub.status.busy": "2022-07-08T04:17:29.660651Z",
     "iopub.status.idle": "2022-07-08T04:17:30.343958Z",
     "shell.execute_reply": "2022-07-08T04:17:30.342695Z"
    },
    "papermill": {
     "duration": 0.704175,
     "end_time": "2022-07-08T04:17:30.346488",
     "exception": false,
     "start_time": "2022-07-08T04:17:29.642313",
     "status": "completed"
    },
    "tags": []
   },
   "outputs": [
    {
     "data": {
      "image/png": "[encoded data removed]",
      "text/plain": [
       "<Figure size 640x480 with 2 Axes>"
      ]
     },
     "metadata": {},
     "output_type": "display_data"
    }
   ],
   "source": [
    "ax = sns.heatmap(df.corr(), annot=True)\n",
    "plt.show()"
   ]
  },
  {
   "cell_type": "code",
   "execution_count": 30,
   "id": "94a7c348",
   "metadata": {
    "execution": {
     "iopub.execute_input": "2022-07-08T04:17:30.384488Z",
     "iopub.status.busy": "2022-07-08T04:17:30.383679Z",
     "iopub.status.idle": "2022-07-08T04:17:30.402838Z",
     "shell.execute_reply": "2022-07-08T04:17:30.401555Z"
    },
    "id": "JzU5A_8sPPKW",
    "outputId": "76cf637a-556d-482b-b633-e3121ac471db",
    "papermill": {
     "duration": 0.041104,
     "end_time": "2022-07-08T04:17:30.405384",
     "exception": false,
     "start_time": "2022-07-08T04:17:30.364280",
     "status": "completed"
    },
    "tags": []
   },
   "outputs": [
    {
     "data": {
      "text/html": [
       "<div>\n",
       "<style scoped>\n",
       "    .dataframe tbody tr th:only-of-type {\n",
       "        vertical-align: middle;\n",
       "    }\n",
       "\n",
       "    .dataframe tbody tr th {\n",
       "        vertical-align: top;\n",
       "    }\n",
       "\n",
       "    .dataframe thead th {\n",
       "        text-align: right;\n",
       "    }\n",
       "</style>\n",
       "<table border=\"1\" class=\"dataframe\">\n",
       "  <thead>\n",
       "    <tr style=\"text-align: right;\">\n",
       "      <th></th>\n",
       "      <th>TARGET</th>\n",
       "      <th>AMT_INCOME_TOTAL</th>\n",
       "      <th>AMT_CREDIT</th>\n",
       "      <th>AMT_ANNUITY</th>\n",
       "      <th>AMT_GOODS_PRICE</th>\n",
       "      <th>NAME_INCOME_TYPE</th>\n",
       "      <th>HOUR_APPR_PROCESS_START</th>\n",
       "      <th>ORGANIZATION_TYPE</th>\n",
       "    </tr>\n",
       "  </thead>\n",
       "  <tbody>\n",
       "    <tr>\n",
       "      <th>0</th>\n",
       "      <td>1</td>\n",
       "      <td>202500.0</td>\n",
       "      <td>406597.5</td>\n",
       "      <td>24700.5</td>\n",
       "      <td>351000.0</td>\n",
       "      <td>7</td>\n",
       "      <td>10</td>\n",
       "      <td>5</td>\n",
       "    </tr>\n",
       "    <tr>\n",
       "      <th>1</th>\n",
       "      <td>0</td>\n",
       "      <td>270000.0</td>\n",
       "      <td>1293502.5</td>\n",
       "      <td>35698.5</td>\n",
       "      <td>1129500.0</td>\n",
       "      <td>4</td>\n",
       "      <td>11</td>\n",
       "      <td>39</td>\n",
       "    </tr>\n",
       "    <tr>\n",
       "      <th>2</th>\n",
       "      <td>0</td>\n",
       "      <td>67500.0</td>\n",
       "      <td>135000.0</td>\n",
       "      <td>6750.0</td>\n",
       "      <td>135000.0</td>\n",
       "      <td>7</td>\n",
       "      <td>9</td>\n",
       "      <td>11</td>\n",
       "    </tr>\n",
       "    <tr>\n",
       "      <th>3</th>\n",
       "      <td>0</td>\n",
       "      <td>135000.0</td>\n",
       "      <td>312682.5</td>\n",
       "      <td>29686.5</td>\n",
       "      <td>297000.0</td>\n",
       "      <td>7</td>\n",
       "      <td>17</td>\n",
       "      <td>5</td>\n",
       "    </tr>\n",
       "    <tr>\n",
       "      <th>4</th>\n",
       "      <td>0</td>\n",
       "      <td>121500.0</td>\n",
       "      <td>513000.0</td>\n",
       "      <td>21865.5</td>\n",
       "      <td>513000.0</td>\n",
       "      <td>7</td>\n",
       "      <td>11</td>\n",
       "      <td>37</td>\n",
       "    </tr>\n",
       "    <tr>\n",
       "      <th>...</th>\n",
       "      <td>...</td>\n",
       "      <td>...</td>\n",
       "      <td>...</td>\n",
       "      <td>...</td>\n",
       "      <td>...</td>\n",
       "      <td>...</td>\n",
       "      <td>...</td>\n",
       "      <td>...</td>\n",
       "    </tr>\n",
       "    <tr>\n",
       "      <th>307506</th>\n",
       "      <td>0</td>\n",
       "      <td>157500.0</td>\n",
       "      <td>254700.0</td>\n",
       "      <td>27558.0</td>\n",
       "      <td>225000.0</td>\n",
       "      <td>7</td>\n",
       "      <td>15</td>\n",
       "      <td>43</td>\n",
       "    </tr>\n",
       "    <tr>\n",
       "      <th>307507</th>\n",
       "      <td>0</td>\n",
       "      <td>72000.0</td>\n",
       "      <td>269550.0</td>\n",
       "      <td>12001.5</td>\n",
       "      <td>225000.0</td>\n",
       "      <td>3</td>\n",
       "      <td>8</td>\n",
       "      <td>57</td>\n",
       "    </tr>\n",
       "    <tr>\n",
       "      <th>307508</th>\n",
       "      <td>0</td>\n",
       "      <td>153000.0</td>\n",
       "      <td>677664.0</td>\n",
       "      <td>29979.0</td>\n",
       "      <td>585000.0</td>\n",
       "      <td>7</td>\n",
       "      <td>9</td>\n",
       "      <td>39</td>\n",
       "    </tr>\n",
       "    <tr>\n",
       "      <th>307509</th>\n",
       "      <td>1</td>\n",
       "      <td>171000.0</td>\n",
       "      <td>370107.0</td>\n",
       "      <td>20205.0</td>\n",
       "      <td>319500.0</td>\n",
       "      <td>1</td>\n",
       "      <td>9</td>\n",
       "      <td>3</td>\n",
       "    </tr>\n",
       "    <tr>\n",
       "      <th>307510</th>\n",
       "      <td>0</td>\n",
       "      <td>157500.0</td>\n",
       "      <td>675000.0</td>\n",
       "      <td>49117.5</td>\n",
       "      <td>675000.0</td>\n",
       "      <td>1</td>\n",
       "      <td>20</td>\n",
       "      <td>5</td>\n",
       "    </tr>\n",
       "  </tbody>\n",
       "</table>\n",
       "<p>307511 rows × 8 columns</p>\n",
       "</div>"
      ],
      "text/plain": [
       "        TARGET  AMT_INCOME_TOTAL  AMT_CREDIT  AMT_ANNUITY  AMT_GOODS_PRICE  \\\n",
       "0            1          202500.0    406597.5      24700.5         351000.0   \n",
       "1            0          270000.0   1293502.5      35698.5        1129500.0   \n",
       "2            0           67500.0    135000.0       6750.0         135000.0   \n",
       "3            0          135000.0    312682.5      29686.5         297000.0   \n",
       "4            0          121500.0    513000.0      21865.5         513000.0   \n",
       "...        ...               ...         ...          ...              ...   \n",
       "307506       0          157500.0    254700.0      27558.0         225000.0   \n",
       "307507       0           72000.0    269550.0      12001.5         225000.0   \n",
       "307508       0          153000.0    677664.0      29979.0         585000.0   \n",
       "307509       1          171000.0    370107.0      20205.0         319500.0   \n",
       "307510       0          157500.0    675000.0      49117.5         675000.0   \n",
       "\n",
       "        NAME_INCOME_TYPE  HOUR_APPR_PROCESS_START  ORGANIZATION_TYPE  \n",
       "0                      7                       10                  5  \n",
       "1                      4                       11                 39  \n",
       "2                      7                        9                 11  \n",
       "3                      7                       17                  5  \n",
       "4                      7                       11                 37  \n",
       "...                  ...                      ...                ...  \n",
       "307506                 7                       15                 43  \n",
       "307507                 3                        8                 57  \n",
       "307508                 7                        9                 39  \n",
       "307509                 1                        9                  3  \n",
       "307510                 1                       20                  5  \n",
       "\n",
       "[307511 rows x 8 columns]"
      ]
     },
     "execution_count": 30,
     "metadata": {},
     "output_type": "execute_result"
    }
   ],
   "source": [
    "df"
   ]
  },
  {
   "cell_type": "markdown",
   "id": "6cd1a360",
   "metadata": {
    "papermill": {
     "duration": 0.017792,
     "end_time": "2022-07-08T04:17:30.441293",
     "exception": false,
     "start_time": "2022-07-08T04:17:30.423501",
     "status": "completed"
    },
    "tags": []
   },
   "source": [
    "**Feature Selection**"
   ]
  },
  {
   "cell_type": "markdown",
   "id": "ed65452f",
   "metadata": {
    "papermill": {
     "duration": 0.017547,
     "end_time": "2022-07-08T04:17:30.476860",
     "exception": false,
     "start_time": "2022-07-08T04:17:30.459313",
     "status": "completed"
    },
    "tags": []
   },
   "source": [
    "Feature selection is the process of reducing the number of input variables when developing a predictive model. It is desirable to reduce the number of input variables to both reduce the computational cost of modeling and, in some cases, to improve the performance of the model."
   ]
  },
  {
   "cell_type": "code",
   "execution_count": 31,
   "id": "fab51375",
   "metadata": {
    "execution": {
     "iopub.execute_input": "2022-07-08T04:17:30.514420Z",
     "iopub.status.busy": "2022-07-08T04:17:30.513613Z",
     "iopub.status.idle": "2022-07-08T04:17:30.534914Z",
     "shell.execute_reply": "2022-07-08T04:17:30.533614Z"
    },
    "id": "6-fpciDfQBV_",
    "papermill": {
     "duration": 0.043189,
     "end_time": "2022-07-08T04:17:30.537682",
     "exception": false,
     "start_time": "2022-07-08T04:17:30.494493",
     "status": "completed"
    },
    "tags": []
   },
   "outputs": [],
   "source": [
    "X = df.drop(\"TARGET\",axis=1)\n",
    "y = df.TARGET"
   ]
  },
  {
   "cell_type": "code",
   "execution_count": 32,
   "id": "afd9b020",
   "metadata": {
    "execution": {
     "iopub.execute_input": "2022-07-08T04:17:30.575393Z",
     "iopub.status.busy": "2022-07-08T04:17:30.574969Z",
     "iopub.status.idle": "2022-07-08T04:17:30.581248Z",
     "shell.execute_reply": "2022-07-08T04:17:30.580191Z"
    },
    "id": "dqQt88FXQWpT",
    "outputId": "70e07522-f973-47fd-c565-5164a8f3d369",
    "papermill": {
     "duration": 0.027526,
     "end_time": "2022-07-08T04:17:30.583221",
     "exception": false,
     "start_time": "2022-07-08T04:17:30.555695",
     "status": "completed"
    },
    "tags": []
   },
   "outputs": [
    {
     "data": {
      "text/plain": [
       "(307511, 7)"
      ]
     },
     "execution_count": 32,
     "metadata": {},
     "output_type": "execute_result"
    }
   ],
   "source": [
    "X.shape"
   ]
  },
  {
   "cell_type": "markdown",
   "id": "e2257613",
   "metadata": {
    "papermill": {
     "duration": 0.017178,
     "end_time": "2022-07-08T04:17:30.617872",
     "exception": false,
     "start_time": "2022-07-08T04:17:30.600694",
     "status": "completed"
    },
    "tags": []
   },
   "source": [
    "**Train, Test and Split**"
   ]
  },
  {
   "cell_type": "code",
   "execution_count": 33,
   "id": "414729e4",
   "metadata": {
    "execution": {
     "iopub.execute_input": "2022-07-08T04:17:30.655160Z",
     "iopub.status.busy": "2022-07-08T04:17:30.654348Z",
     "iopub.status.idle": "2022-07-08T04:17:30.717601Z",
     "shell.execute_reply": "2022-07-08T04:17:30.716523Z"
    },
    "id": "Vu8UrwyUQfUh",
    "outputId": "69d613bf-5c12-4943-e1b6-dc1f18cd5b5d",
    "papermill": {
     "duration": 0.084934,
     "end_time": "2022-07-08T04:17:30.720228",
     "exception": false,
     "start_time": "2022-07-08T04:17:30.635294",
     "status": "completed"
    },
    "tags": []
   },
   "outputs": [
    {
     "data": {
      "text/plain": [
       "((215257, 7), (92254, 7))"
      ]
     },
     "execution_count": 33,
     "metadata": {},
     "output_type": "execute_result"
    }
   ],
   "source": [
    "from sklearn.model_selection import train_test_split \n",
    "X_train,X_test,y_train,y_test=train_test_split(X,y,test_size=0.3,random_state=1)\n",
    "\n",
    "X_train.shape,X_test.shape"
   ]
  },
  {
   "cell_type": "code",
   "execution_count": 34,
   "id": "6f4e1b06",
   "metadata": {
    "execution": {
     "iopub.execute_input": "2022-07-08T04:17:30.758517Z",
     "iopub.status.busy": "2022-07-08T04:17:30.758080Z",
     "iopub.status.idle": "2022-07-08T04:17:30.776418Z",
     "shell.execute_reply": "2022-07-08T04:17:30.775526Z"
    },
    "papermill": {
     "duration": 0.04013,
     "end_time": "2022-07-08T04:17:30.778382",
     "exception": false,
     "start_time": "2022-07-08T04:17:30.738252",
     "status": "completed"
    },
    "tags": []
   },
   "outputs": [
    {
     "data": {
      "text/html": [
       "<div>\n",
       "<style scoped>\n",
       "    .dataframe tbody tr th:only-of-type {\n",
       "        vertical-align: middle;\n",
       "    }\n",
       "\n",
       "    .dataframe tbody tr th {\n",
       "        vertical-align: top;\n",
       "    }\n",
       "\n",
       "    .dataframe thead th {\n",
       "        text-align: right;\n",
       "    }\n",
       "</style>\n",
       "<table border=\"1\" class=\"dataframe\">\n",
       "  <thead>\n",
       "    <tr style=\"text-align: right;\">\n",
       "      <th></th>\n",
       "      <th>AMT_INCOME_TOTAL</th>\n",
       "      <th>AMT_CREDIT</th>\n",
       "      <th>AMT_ANNUITY</th>\n",
       "      <th>AMT_GOODS_PRICE</th>\n",
       "      <th>NAME_INCOME_TYPE</th>\n",
       "      <th>HOUR_APPR_PROCESS_START</th>\n",
       "      <th>ORGANIZATION_TYPE</th>\n",
       "    </tr>\n",
       "  </thead>\n",
       "  <tbody>\n",
       "    <tr>\n",
       "      <th>208983</th>\n",
       "      <td>202500.0</td>\n",
       "      <td>585000.0</td>\n",
       "      <td>29250.0</td>\n",
       "      <td>585000.0</td>\n",
       "      <td>4</td>\n",
       "      <td>10</td>\n",
       "      <td>11</td>\n",
       "    </tr>\n",
       "    <tr>\n",
       "      <th>71687</th>\n",
       "      <td>112500.0</td>\n",
       "      <td>656811.0</td>\n",
       "      <td>30564.0</td>\n",
       "      <td>567000.0</td>\n",
       "      <td>3</td>\n",
       "      <td>11</td>\n",
       "      <td>57</td>\n",
       "    </tr>\n",
       "    <tr>\n",
       "      <th>301340</th>\n",
       "      <td>144000.0</td>\n",
       "      <td>450000.0</td>\n",
       "      <td>22500.0</td>\n",
       "      <td>450000.0</td>\n",
       "      <td>1</td>\n",
       "      <td>10</td>\n",
       "      <td>4</td>\n",
       "    </tr>\n",
       "    <tr>\n",
       "      <th>216927</th>\n",
       "      <td>450000.0</td>\n",
       "      <td>1483231.5</td>\n",
       "      <td>51687.0</td>\n",
       "      <td>1354500.0</td>\n",
       "      <td>4</td>\n",
       "      <td>18</td>\n",
       "      <td>41</td>\n",
       "    </tr>\n",
       "    <tr>\n",
       "      <th>109091</th>\n",
       "      <td>202500.0</td>\n",
       "      <td>454500.0</td>\n",
       "      <td>19255.5</td>\n",
       "      <td>454500.0</td>\n",
       "      <td>1</td>\n",
       "      <td>9</td>\n",
       "      <td>5</td>\n",
       "    </tr>\n",
       "    <tr>\n",
       "      <th>...</th>\n",
       "      <td>...</td>\n",
       "      <td>...</td>\n",
       "      <td>...</td>\n",
       "      <td>...</td>\n",
       "      <td>...</td>\n",
       "      <td>...</td>\n",
       "      <td>...</td>\n",
       "    </tr>\n",
       "    <tr>\n",
       "      <th>21440</th>\n",
       "      <td>292500.0</td>\n",
       "      <td>2013840.0</td>\n",
       "      <td>53253.0</td>\n",
       "      <td>1800000.0</td>\n",
       "      <td>7</td>\n",
       "      <td>11</td>\n",
       "      <td>55</td>\n",
       "    </tr>\n",
       "    <tr>\n",
       "      <th>117583</th>\n",
       "      <td>157500.0</td>\n",
       "      <td>599778.0</td>\n",
       "      <td>32665.5</td>\n",
       "      <td>477000.0</td>\n",
       "      <td>7</td>\n",
       "      <td>6</td>\n",
       "      <td>11</td>\n",
       "    </tr>\n",
       "    <tr>\n",
       "      <th>73349</th>\n",
       "      <td>135000.0</td>\n",
       "      <td>270000.0</td>\n",
       "      <td>13500.0</td>\n",
       "      <td>270000.0</td>\n",
       "      <td>1</td>\n",
       "      <td>12</td>\n",
       "      <td>5</td>\n",
       "    </tr>\n",
       "    <tr>\n",
       "      <th>267336</th>\n",
       "      <td>135000.0</td>\n",
       "      <td>781920.0</td>\n",
       "      <td>47835.0</td>\n",
       "      <td>675000.0</td>\n",
       "      <td>7</td>\n",
       "      <td>14</td>\n",
       "      <td>40</td>\n",
       "    </tr>\n",
       "    <tr>\n",
       "      <th>128037</th>\n",
       "      <td>112500.0</td>\n",
       "      <td>315000.0</td>\n",
       "      <td>15448.5</td>\n",
       "      <td>315000.0</td>\n",
       "      <td>1</td>\n",
       "      <td>13</td>\n",
       "      <td>5</td>\n",
       "    </tr>\n",
       "  </tbody>\n",
       "</table>\n",
       "<p>215257 rows × 7 columns</p>\n",
       "</div>"
      ],
      "text/plain": [
       "        AMT_INCOME_TOTAL  AMT_CREDIT  AMT_ANNUITY  AMT_GOODS_PRICE  \\\n",
       "208983          202500.0    585000.0      29250.0         585000.0   \n",
       "71687           112500.0    656811.0      30564.0         567000.0   \n",
       "301340          144000.0    450000.0      22500.0         450000.0   \n",
       "216927          450000.0   1483231.5      51687.0        1354500.0   \n",
       "109091          202500.0    454500.0      19255.5         454500.0   \n",
       "...                  ...         ...          ...              ...   \n",
       "21440           292500.0   2013840.0      53253.0        1800000.0   \n",
       "117583          157500.0    599778.0      32665.5         477000.0   \n",
       "73349           135000.0    270000.0      13500.0         270000.0   \n",
       "267336          135000.0    781920.0      47835.0         675000.0   \n",
       "128037          112500.0    315000.0      15448.5         315000.0   \n",
       "\n",
       "        NAME_INCOME_TYPE  HOUR_APPR_PROCESS_START  ORGANIZATION_TYPE  \n",
       "208983                 4                       10                 11  \n",
       "71687                  3                       11                 57  \n",
       "301340                 1                       10                  4  \n",
       "216927                 4                       18                 41  \n",
       "109091                 1                        9                  5  \n",
       "...                  ...                      ...                ...  \n",
       "21440                  7                       11                 55  \n",
       "117583                 7                        6                 11  \n",
       "73349                  1                       12                  5  \n",
       "267336                 7                       14                 40  \n",
       "128037                 1                       13                  5  \n",
       "\n",
       "[215257 rows x 7 columns]"
      ]
     },
     "execution_count": 34,
     "metadata": {},
     "output_type": "execute_result"
    }
   ],
   "source": [
    "X_train"
   ]
  },
  {
   "cell_type": "code",
   "execution_count": 35,
   "id": "1ed508c4",
   "metadata": {
    "execution": {
     "iopub.execute_input": "2022-07-08T04:17:30.817160Z",
     "iopub.status.busy": "2022-07-08T04:17:30.816268Z",
     "iopub.status.idle": "2022-07-08T04:17:30.835660Z",
     "shell.execute_reply": "2022-07-08T04:17:30.834814Z"
    },
    "papermill": {
     "duration": 0.041322,
     "end_time": "2022-07-08T04:17:30.837951",
     "exception": false,
     "start_time": "2022-07-08T04:17:30.796629",
     "status": "completed"
    },
    "tags": []
   },
   "outputs": [
    {
     "data": {
      "text/html": [
       "<div>\n",
       "<style scoped>\n",
       "    .dataframe tbody tr th:only-of-type {\n",
       "        vertical-align: middle;\n",
       "    }\n",
       "\n",
       "    .dataframe tbody tr th {\n",
       "        vertical-align: top;\n",
       "    }\n",
       "\n",
       "    .dataframe thead th {\n",
       "        text-align: right;\n",
       "    }\n",
       "</style>\n",
       "<table border=\"1\" class=\"dataframe\">\n",
       "  <thead>\n",
       "    <tr style=\"text-align: right;\">\n",
       "      <th></th>\n",
       "      <th>AMT_INCOME_TOTAL</th>\n",
       "      <th>AMT_CREDIT</th>\n",
       "      <th>AMT_ANNUITY</th>\n",
       "      <th>AMT_GOODS_PRICE</th>\n",
       "      <th>NAME_INCOME_TYPE</th>\n",
       "      <th>HOUR_APPR_PROCESS_START</th>\n",
       "      <th>ORGANIZATION_TYPE</th>\n",
       "    </tr>\n",
       "  </thead>\n",
       "  <tbody>\n",
       "    <tr>\n",
       "      <th>64282</th>\n",
       "      <td>135000.0</td>\n",
       "      <td>654498.0</td>\n",
       "      <td>31617.0</td>\n",
       "      <td>585000.0</td>\n",
       "      <td>3</td>\n",
       "      <td>9</td>\n",
       "      <td>57</td>\n",
       "    </tr>\n",
       "    <tr>\n",
       "      <th>94645</th>\n",
       "      <td>135000.0</td>\n",
       "      <td>234576.0</td>\n",
       "      <td>25393.5</td>\n",
       "      <td>202500.0</td>\n",
       "      <td>7</td>\n",
       "      <td>17</td>\n",
       "      <td>11</td>\n",
       "    </tr>\n",
       "    <tr>\n",
       "      <th>306349</th>\n",
       "      <td>112500.0</td>\n",
       "      <td>157914.0</td>\n",
       "      <td>16753.5</td>\n",
       "      <td>139500.0</td>\n",
       "      <td>7</td>\n",
       "      <td>14</td>\n",
       "      <td>33</td>\n",
       "    </tr>\n",
       "    <tr>\n",
       "      <th>258314</th>\n",
       "      <td>247500.0</td>\n",
       "      <td>1125000.0</td>\n",
       "      <td>36292.5</td>\n",
       "      <td>1125000.0</td>\n",
       "      <td>7</td>\n",
       "      <td>16</td>\n",
       "      <td>40</td>\n",
       "    </tr>\n",
       "    <tr>\n",
       "      <th>87597</th>\n",
       "      <td>202500.0</td>\n",
       "      <td>900000.0</td>\n",
       "      <td>35158.5</td>\n",
       "      <td>900000.0</td>\n",
       "      <td>7</td>\n",
       "      <td>8</td>\n",
       "      <td>42</td>\n",
       "    </tr>\n",
       "    <tr>\n",
       "      <th>...</th>\n",
       "      <td>...</td>\n",
       "      <td>...</td>\n",
       "      <td>...</td>\n",
       "      <td>...</td>\n",
       "      <td>...</td>\n",
       "      <td>...</td>\n",
       "      <td>...</td>\n",
       "    </tr>\n",
       "    <tr>\n",
       "      <th>98497</th>\n",
       "      <td>81000.0</td>\n",
       "      <td>808650.0</td>\n",
       "      <td>26217.0</td>\n",
       "      <td>675000.0</td>\n",
       "      <td>7</td>\n",
       "      <td>16</td>\n",
       "      <td>40</td>\n",
       "    </tr>\n",
       "    <tr>\n",
       "      <th>205542</th>\n",
       "      <td>99000.0</td>\n",
       "      <td>135000.0</td>\n",
       "      <td>10822.5</td>\n",
       "      <td>135000.0</td>\n",
       "      <td>7</td>\n",
       "      <td>14</td>\n",
       "      <td>42</td>\n",
       "    </tr>\n",
       "    <tr>\n",
       "      <th>127474</th>\n",
       "      <td>157500.0</td>\n",
       "      <td>675000.0</td>\n",
       "      <td>38880.0</td>\n",
       "      <td>675000.0</td>\n",
       "      <td>7</td>\n",
       "      <td>10</td>\n",
       "      <td>42</td>\n",
       "    </tr>\n",
       "    <tr>\n",
       "      <th>46981</th>\n",
       "      <td>112500.0</td>\n",
       "      <td>1006920.0</td>\n",
       "      <td>42790.5</td>\n",
       "      <td>900000.0</td>\n",
       "      <td>3</td>\n",
       "      <td>11</td>\n",
       "      <td>57</td>\n",
       "    </tr>\n",
       "    <tr>\n",
       "      <th>194313</th>\n",
       "      <td>67500.0</td>\n",
       "      <td>104256.0</td>\n",
       "      <td>10287.0</td>\n",
       "      <td>90000.0</td>\n",
       "      <td>3</td>\n",
       "      <td>15</td>\n",
       "      <td>57</td>\n",
       "    </tr>\n",
       "  </tbody>\n",
       "</table>\n",
       "<p>92254 rows × 7 columns</p>\n",
       "</div>"
      ],
      "text/plain": [
       "        AMT_INCOME_TOTAL  AMT_CREDIT  AMT_ANNUITY  AMT_GOODS_PRICE  \\\n",
       "64282           135000.0    654498.0      31617.0         585000.0   \n",
       "94645           135000.0    234576.0      25393.5         202500.0   \n",
       "306349          112500.0    157914.0      16753.5         139500.0   \n",
       "258314          247500.0   1125000.0      36292.5        1125000.0   \n",
       "87597           202500.0    900000.0      35158.5         900000.0   \n",
       "...                  ...         ...          ...              ...   \n",
       "98497            81000.0    808650.0      26217.0         675000.0   \n",
       "205542           99000.0    135000.0      10822.5         135000.0   \n",
       "127474          157500.0    675000.0      38880.0         675000.0   \n",
       "46981           112500.0   1006920.0      42790.5         900000.0   \n",
       "194313           67500.0    104256.0      10287.0          90000.0   \n",
       "\n",
       "        NAME_INCOME_TYPE  HOUR_APPR_PROCESS_START  ORGANIZATION_TYPE  \n",
       "64282                  3                        9                 57  \n",
       "94645                  7                       17                 11  \n",
       "306349                 7                       14                 33  \n",
       "258314                 7                       16                 40  \n",
       "87597                  7                        8                 42  \n",
       "...                  ...                      ...                ...  \n",
       "98497                  7                       16                 40  \n",
       "205542                 7                       14                 42  \n",
       "127474                 7                       10                 42  \n",
       "46981                  3                       11                 57  \n",
       "194313                 3                       15                 57  \n",
       "\n",
       "[92254 rows x 7 columns]"
      ]
     },
     "execution_count": 35,
     "metadata": {},
     "output_type": "execute_result"
    }
   ],
   "source": [
    "X_test"
   ]
  },
  {
   "cell_type": "markdown",
   "id": "8b6e9d7a",
   "metadata": {
    "papermill": {
     "duration": 0.018389,
     "end_time": "2022-07-08T04:17:30.875061",
     "exception": false,
     "start_time": "2022-07-08T04:17:30.856672",
     "status": "completed"
    },
    "tags": []
   },
   "source": [
    "**Random forest Classifier**"
   ]
  },
  {
   "cell_type": "markdown",
   "id": "4e0514d7",
   "metadata": {
    "papermill": {
     "duration": 0.018289,
     "end_time": "2022-07-08T04:17:30.911947",
     "exception": false,
     "start_time": "2022-07-08T04:17:30.893658",
     "status": "completed"
    },
    "tags": []
   },
   "source": [
    "Random forest is a type of Supervised Machine Learning Algorithm that is commonly used in classification and regression problems. It constructs decision trees from various samples and uses their majority vote for classification and average for regression."
   ]
  },
  {
   "cell_type": "code",
   "execution_count": 36,
   "id": "839be777",
   "metadata": {
    "execution": {
     "iopub.execute_input": "2022-07-08T04:17:30.951618Z",
     "iopub.status.busy": "2022-07-08T04:17:30.950521Z",
     "iopub.status.idle": "2022-07-08T04:17:35.232446Z",
     "shell.execute_reply": "2022-07-08T04:17:35.231295Z"
    },
    "papermill": {
     "duration": 4.304432,
     "end_time": "2022-07-08T04:17:35.234811",
     "exception": false,
     "start_time": "2022-07-08T04:17:30.930379",
     "status": "completed"
    },
    "tags": []
   },
   "outputs": [
    {
     "data": {
      "text/html": [
       "<style>#sk-container-id-1 {color: black;background-color: white;}#sk-container-id-1 pre{padding: 0;}#sk-container-id-1 div.sk-toggleable {background-color: white;}#sk-container-id-1 label.sk-toggleable__label {cursor: pointer;display: block;width: 100%;margin-bottom: 0;padding: 0.3em;box-sizing: border-box;text-align: center;}#sk-container-id-1 label.sk-toggleable__label-arrow:before {content: \"▸\";float: left;margin-right: 0.25em;color: #696969;}#sk-container-id-1 label.sk-toggleable__label-arrow:hover:before {color: black;}#sk-container-id-1 div.sk-estimator:hover label.sk-toggleable__label-arrow:before {color: black;}#sk-container-id-1 div.sk-toggleable__content {max-height: 0;max-width: 0;overflow: hidden;text-align: left;background-color: #f0f8ff;}#sk-container-id-1 div.sk-toggleable__content pre {margin: 0.2em;color: black;border-radius: 0.25em;background-color: #f0f8ff;}#sk-container-id-1 input.sk-toggleable__control:checked~div.sk-toggleable__content {max-height: 200px;max-width: 100%;overflow: auto;}#sk-container-id-1 input.sk-toggleable__control:checked~label.sk-toggleable__label-arrow:before {content: \"▾\";}#sk-container-id-1 div.sk-estimator input.sk-toggleable__control:checked~label.sk-toggleable__label {background-color: #d4ebff;}#sk-container-id-1 div.sk-label input.sk-toggleable__control:checked~label.sk-toggleable__label {background-color: #d4ebff;}#sk-container-id-1 input.sk-hidden--visually {border: 0;clip: rect(1px 1px 1px 1px);clip: rect(1px, 1px, 1px, 1px);height: 1px;margin: -1px;overflow: hidden;padding: 0;position: absolute;width: 1px;}#sk-container-id-1 div.sk-estimator {font-family: monospace;background-color: #f0f8ff;border: 1px dotted black;border-radius: 0.25em;box-sizing: border-box;margin-bottom: 0.5em;}#sk-container-id-1 div.sk-estimator:hover {background-color: #d4ebff;}#sk-container-id-1 div.sk-parallel-item::after {content: \"\";width: 100%;border-bottom: 1px solid gray;flex-grow: 1;}#sk-container-id-1 div.sk-label:hover label.sk-toggleable__label {background-color: #d4ebff;}#sk-container-id-1 div.sk-serial::before {content: \"\";position: absolute;border-left: 1px solid gray;box-sizing: border-box;top: 0;bottom: 0;left: 50%;z-index: 0;}#sk-container-id-1 div.sk-serial {display: flex;flex-direction: column;align-items: center;background-color: white;padding-right: 0.2em;padding-left: 0.2em;position: relative;}#sk-container-id-1 div.sk-item {position: relative;z-index: 1;}#sk-container-id-1 div.sk-parallel {display: flex;align-items: stretch;justify-content: center;background-color: white;position: relative;}#sk-container-id-1 div.sk-item::before, #sk-container-id-1 div.sk-parallel-item::before {content: \"\";position: absolute;border-left: 1px solid gray;box-sizing: border-box;top: 0;bottom: 0;left: 50%;z-index: -1;}#sk-container-id-1 div.sk-parallel-item {display: flex;flex-direction: column;z-index: 1;position: relative;background-color: white;}#sk-container-id-1 div.sk-parallel-item:first-child::after {align-self: flex-end;width: 50%;}#sk-container-id-1 div.sk-parallel-item:last-child::after {align-self: flex-start;width: 50%;}#sk-container-id-1 div.sk-parallel-item:only-child::after {width: 0;}#sk-container-id-1 div.sk-dashed-wrapped {border: 1px dashed gray;margin: 0 0.4em 0.5em 0.4em;box-sizing: border-box;padding-bottom: 0.4em;background-color: white;}#sk-container-id-1 div.sk-label label {font-family: monospace;font-weight: bold;display: inline-block;line-height: 1.2em;}#sk-container-id-1 div.sk-label-container {text-align: center;}#sk-container-id-1 div.sk-container {/* jupyter's `normalize.less` sets `[hidden] { display: none; }` but bootstrap.min.css set `[hidden] { display: none !important; }` so we also need the `!important` here to be able to override the default hidden behavior on the sphinx rendered scikit-learn.org. See: https://github.com/scikit-learn/scikit-learn/issues/21755 */display: inline-block !important;position: relative;}#sk-container-id-1 div.sk-text-repr-fallback {display: none;}</style><div id=\"sk-container-id-1\" class=\"sk-top-container\"><div class=\"sk-text-repr-fallback\"><pre>RandomForestClassifier(n_estimators=10, random_state=0)</pre><b>In a Jupyter environment, please rerun this cell to show the HTML representation or trust the notebook. <br />On GitHub, the HTML representation is unable to render, please try loading this page with nbviewer.org.</b></div><div class=\"sk-container\" hidden><div class=\"sk-item\"><div class=\"sk-estimator sk-toggleable\"><input class=\"sk-toggleable__control sk-hidden--visually\" id=\"sk-estimator-id-1\" type=\"checkbox\" checked><label for=\"sk-estimator-id-1\" class=\"sk-toggleable__label sk-toggleable__label-arrow\">RandomForestClassifier</label><div class=\"sk-toggleable__content\"><pre>RandomForestClassifier(n_estimators=10, random_state=0)</pre></div></div></div></div></div>"
      ],
      "text/plain": [
       "RandomForestClassifier(n_estimators=10, random_state=0)"
      ]
     },
     "execution_count": 36,
     "metadata": {},
     "output_type": "execute_result"
    }
   ],
   "source": [
    "# Applying random forest Classifier\n",
    "from sklearn.ensemble import RandomForestClassifier\n",
    "rf_Classifier = RandomForestClassifier(n_estimators = 10, random_state = 0)\n",
    "rf_Classifier.fit(X_train, y_train)"
   ]
  },
  {
   "cell_type": "code",
   "execution_count": 37,
   "id": "97a837c7",
   "metadata": {
    "execution": {
     "iopub.execute_input": "2022-07-08T04:17:35.275016Z",
     "iopub.status.busy": "2022-07-08T04:17:35.274231Z",
     "iopub.status.idle": "2022-07-08T04:17:35.634736Z",
     "shell.execute_reply": "2022-07-08T04:17:35.633582Z"
    },
    "papermill": {
     "duration": 0.383344,
     "end_time": "2022-07-08T04:17:35.636943",
     "exception": false,
     "start_time": "2022-07-08T04:17:35.253599",
     "status": "completed"
    },
    "tags": []
   },
   "outputs": [
    {
     "data": {
      "text/plain": [
       "array([0, 0, 0, ..., 0, 0, 0], dtype=int64)"
      ]
     },
     "execution_count": 37,
     "metadata": {},
     "output_type": "execute_result"
    }
   ],
   "source": [
    "y_pred = rf_Classifier.predict(X_test)\n",
    "y_pred"
   ]
  },
  {
   "cell_type": "code",
   "execution_count": 38,
   "id": "2c41d5d3",
   "metadata": {
    "execution": {
     "iopub.execute_input": "2022-07-08T04:17:35.677039Z",
     "iopub.status.busy": "2022-07-08T04:17:35.676231Z",
     "iopub.status.idle": "2022-07-08T04:17:35.710674Z",
     "shell.execute_reply": "2022-07-08T04:17:35.709423Z"
    },
    "papermill": {
     "duration": 0.057858,
     "end_time": "2022-07-08T04:17:35.713428",
     "exception": false,
     "start_time": "2022-07-08T04:17:35.655570",
     "status": "completed"
    },
    "tags": []
   },
   "outputs": [
    {
     "name": "stdout",
     "output_type": "stream",
     "text": [
      "[[83977   810]\n",
      " [ 7320   147]]\n"
     ]
    },
    {
     "data": {
      "text/plain": [
       "0.9118737398920372"
      ]
     },
     "execution_count": 38,
     "metadata": {},
     "output_type": "execute_result"
    }
   ],
   "source": [
    "from sklearn.metrics import  confusion_matrix,accuracy_score\n",
    "cm=confusion_matrix(y_test,y_pred)\n",
    "print(cm)\n",
    "accuracy_score(y_test,y_pred)"
   ]
  },
  {
   "cell_type": "code",
   "execution_count": 39,
   "id": "26fd7f7f",
   "metadata": {
    "execution": {
     "iopub.execute_input": "2022-07-08T04:17:35.753667Z",
     "iopub.status.busy": "2022-07-08T04:17:35.753275Z",
     "iopub.status.idle": "2022-07-08T04:17:35.907068Z",
     "shell.execute_reply": "2022-07-08T04:17:35.905323Z"
    },
    "papermill": {
     "duration": 0.176922,
     "end_time": "2022-07-08T04:17:35.909584",
     "exception": false,
     "start_time": "2022-07-08T04:17:35.732662",
     "status": "completed"
    },
    "tags": []
   },
   "outputs": [
    {
     "name": "stdout",
     "output_type": "stream",
     "text": [
      "              precision    recall  f1-score   support\n",
      "\n",
      "           0       0.92      0.99      0.95     84787\n",
      "           1       0.15      0.02      0.03      7467\n",
      "\n",
      "    accuracy                           0.91     92254\n",
      "   macro avg       0.54      0.51      0.49     92254\n",
      "weighted avg       0.86      0.91      0.88     92254\n",
      "\n"
     ]
    }
   ],
   "source": [
    "# Classification Report\n",
    "from sklearn.metrics import classification_report\n",
    "print(classification_report(y_test, y_pred))"
   ]
  },
  {
   "cell_type": "code",
   "execution_count": 40,
   "id": "ff313d76",
   "metadata": {
    "scrolled": false
   },
   "outputs": [
    {
     "data": {
      "image/png": "[encoded data removed]",
      "text/plain": [
       "<Figure size 1000x600 with 1 Axes>"
      ]
     },
     "metadata": {},
     "output_type": "display_data"
    }
   ],
   "source": [
    "from sklearn.metrics import roc_curve\n",
    "import matplotlib.pyplot as plt\n",
    "\n",
    "fpr, tpr, thresholds = \\\n",
    "roc_curve(y_test,y_pred)\n",
    "plt.figure(figsize=(10,6))\n",
    "plt.xlim(0,1) \n",
    "plt.ylim(0.0,1.1) \n",
    "plt.xlabel('False Postive Rate')\n",
    "plt.ylabel('True Postive Rate')\n",
    "plt.plot(fpr,tpr,linewidth=2, linestyle=\"-\",color='red')\n",
    "plt.show()"
   ]
  },
  {
   "cell_type": "markdown",
   "id": "644178d6",
   "metadata": {},
   "source": [
    "LogisticRegression"
   ]
  },
  {
   "cell_type": "code",
   "execution_count": 41,
   "id": "1c502977",
   "metadata": {},
   "outputs": [],
   "source": [
    "from sklearn.linear_model import LogisticRegression\n",
    "LogisticRegression_fit = LogisticRegression().fit(X_train,y_train).predict(X_test)"
   ]
  },
  {
   "cell_type": "code",
   "execution_count": 42,
   "id": "6fcce00f",
   "metadata": {},
   "outputs": [
    {
     "data": {
      "image/png": "[encoded data removed]",
      "text/plain": [
       "<Figure size 1000x600 with 1 Axes>"
      ]
     },
     "metadata": {},
     "output_type": "display_data"
    }
   ],
   "source": [
    "from sklearn.metrics import roc_curve\n",
    "import matplotlib.pyplot as plt\n",
    "\n",
    "fpr, tpr, thresholds = \\\n",
    "roc_curve(y_test,LogisticRegression_fit)\n",
    "plt.figure(figsize=(10,6))\n",
    "plt.xlim(0,1) \n",
    "plt.ylim(0.0,1.1) \n",
    "plt.xlabel('False Postive Rate')\n",
    "plt.ylabel('True Postive Rate')\n",
    "plt.plot(fpr,tpr,linewidth=2, linestyle=\"-\",color='red')\n",
    "plt.show()"
   ]
  },
  {
   "cell_type": "code",
   "execution_count": 43,
   "id": "8d38c7e4",
   "metadata": {},
   "outputs": [],
   "source": [
    "from sklearn.tree import DecisionTreeClassifier\n",
    "from sklearn.neighbors import KNeighborsClassifier\n",
    "KNN_fit = KNeighborsClassifier().fit(X_train,y_train).predict(X_test)\n",
    "DecisionTreeClassifier_fit = DecisionTreeClassifier().fit(X_train,y_train).predict(X_test)"
   ]
  },
  {
   "cell_type": "code",
   "execution_count": 44,
   "id": "2e6a7468",
   "metadata": {},
   "outputs": [
    {
     "data": {
      "image/png": "[encoded data removed]",
      "text/plain": [
       "<Figure size 1000x600 with 1 Axes>"
      ]
     },
     "metadata": {},
     "output_type": "display_data"
    }
   ],
   "source": [
    "from sklearn.metrics import roc_curve\n",
    "import matplotlib.pyplot as plt\n",
    "\n",
    "fpr, tpr, thresholds = \\\n",
    "roc_curve(y_test,KNN_fit)\n",
    "plt.figure(figsize=(10,6))\n",
    "plt.xlim(0,1) \n",
    "plt.ylim(0.0,1.1) \n",
    "plt.xlabel('False Postive Rate')\n",
    "plt.ylabel('True Postive Rate')\n",
    "plt.plot(fpr,tpr,linewidth=2, linestyle=\"-\",color='red')\n",
    "plt.show()"
   ]
  },
  {
   "cell_type": "code",
   "execution_count": 45,
   "id": "ba09ccd6",
   "metadata": {},
   "outputs": [
    {
     "data": {
      "image/png": "[encoded data removed]",
      "text/plain": [
       "<Figure size 1000x600 with 1 Axes>"
      ]
     },
     "metadata": {},
     "output_type": "display_data"
    }
   ],
   "source": [
    "from sklearn.metrics import roc_curve\n",
    "import matplotlib.pyplot as plt\n",
    "\n",
    "fpr, tpr, thresholds = \\\n",
    "roc_curve(y_test,DecisionTreeClassifier_fit)\n",
    "plt.figure(figsize=(10,6))\n",
    "plt.xlim(0,1) \n",
    "plt.ylim(0.0,1.1) \n",
    "plt.xlabel('False Postive Rate')\n",
    "plt.ylabel('True Postive Rate')\n",
    "plt.plot(fpr,tpr,linewidth=2, linestyle=\"-\",color='red')\n",
    "plt.show()"
   ]
  },
  {
   "cell_type": "code",
   "execution_count": 46,
   "id": "552067d7",
   "metadata": {},
   "outputs": [
    {
     "name": "stdout",
     "output_type": "stream",
     "text": [
      "0.01681947889033586\n"
     ]
    }
   ],
   "source": [
    "from sklearn.metrics import cohen_kappa_score\n",
    "# Kappa系数是基于混淆矩阵的计算得到的模型评价参数(越接近 1 越好)\n",
    "kappa = cohen_kappa_score(np.array(y_test).reshape(-1,1), np.array(y_pred).reshape(-1,1))\n",
    "print(kappa)"
   ]
  },
  {
   "cell_type": "code",
   "execution_count": 47,
   "id": "72c3d4e6",
   "metadata": {},
   "outputs": [],
   "source": [
    "def kappa_cal(matrix):\n",
    "    n = np.sum(matrix)\n",
    "    sum_po = 0\n",
    "    sum_pe = 0\n",
    "    for i in range(len(matrix[0])):\n",
    "        sum_po += matrix[i][i]\n",
    "        row = np.sum(matrix[i, :])\n",
    "        col = np.sum(matrix[:, i])\n",
    "        sum_pe += row * col\n",
    "    po = sum_po / n\n",
    "    pe = sum_pe / (n * n)\n",
    "    # print(po, pe)\n",
    "    return (po - pe) / (1 - pe)\n",
    "\n",
    "from sklearn.metrics import confusion_matrix\n",
    "matrix = confusion_matrix(np.array(y_test).reshape(-1,1), np.array(y_pred).reshape(-1,1))\n",
    "kappaByHand = kappa_cal(matrix)"
   ]
  },
  {
   "cell_type": "code",
   "execution_count": 48,
   "id": "0b47c3a9",
   "metadata": {},
   "outputs": [
    {
     "data": {
      "text/plain": [
       "0.016819478890336477"
      ]
     },
     "execution_count": 48,
     "metadata": {},
     "output_type": "execute_result"
    }
   ],
   "source": [
    "kappaByHand"
   ]
  },
  {
   "cell_type": "code",
   "execution_count": 49,
   "id": "d9e0a6ba",
   "metadata": {},
   "outputs": [
    {
     "data": {
      "text/plain": [
       "array([[83977,   810],\n",
       "       [ 7320,   147]], dtype=int64)"
      ]
     },
     "execution_count": 49,
     "metadata": {},
     "output_type": "execute_result"
    }
   ],
   "source": [
    "matrix"
   ]
  },
  {
   "cell_type": "code",
   "execution_count": 50,
   "id": "5c0e4dc4",
   "metadata": {
    "execution": {
     "iopub.execute_input": "2022-07-08T04:17:35.950476Z",
     "iopub.status.busy": "2022-07-08T04:17:35.949592Z",
     "iopub.status.idle": "2022-07-08T04:17:35.969348Z",
     "shell.execute_reply": "2022-07-08T04:17:35.968093Z"
    },
    "papermill": {
     "duration": 0.042922,
     "end_time": "2022-07-08T04:17:35.971807",
     "exception": false,
     "start_time": "2022-07-08T04:17:35.928885",
     "status": "completed"
    },
    "scrolled": false,
    "tags": []
   },
   "outputs": [
    {
     "data": {
      "text/html": [
       "<div>\n",
       "<style scoped>\n",
       "    .dataframe tbody tr th:only-of-type {\n",
       "        vertical-align: middle;\n",
       "    }\n",
       "\n",
       "    .dataframe tbody tr th {\n",
       "        vertical-align: top;\n",
       "    }\n",
       "\n",
       "    .dataframe thead th {\n",
       "        text-align: right;\n",
       "    }\n",
       "</style>\n",
       "<table border=\"1\" class=\"dataframe\">\n",
       "  <thead>\n",
       "    <tr style=\"text-align: right;\">\n",
       "      <th></th>\n",
       "      <th>AMT_INCOME_TOTAL</th>\n",
       "      <th>AMT_CREDIT</th>\n",
       "      <th>AMT_ANNUITY</th>\n",
       "      <th>AMT_GOODS_PRICE</th>\n",
       "      <th>NAME_INCOME_TYPE</th>\n",
       "      <th>HOUR_APPR_PROCESS_START</th>\n",
       "      <th>ORGANIZATION_TYPE</th>\n",
       "    </tr>\n",
       "  </thead>\n",
       "  <tbody>\n",
       "    <tr>\n",
       "      <th>64282</th>\n",
       "      <td>135000.0</td>\n",
       "      <td>654498.0</td>\n",
       "      <td>31617.0</td>\n",
       "      <td>585000.0</td>\n",
       "      <td>3</td>\n",
       "      <td>9</td>\n",
       "      <td>57</td>\n",
       "    </tr>\n",
       "    <tr>\n",
       "      <th>94645</th>\n",
       "      <td>135000.0</td>\n",
       "      <td>234576.0</td>\n",
       "      <td>25393.5</td>\n",
       "      <td>202500.0</td>\n",
       "      <td>7</td>\n",
       "      <td>17</td>\n",
       "      <td>11</td>\n",
       "    </tr>\n",
       "    <tr>\n",
       "      <th>306349</th>\n",
       "      <td>112500.0</td>\n",
       "      <td>157914.0</td>\n",
       "      <td>16753.5</td>\n",
       "      <td>139500.0</td>\n",
       "      <td>7</td>\n",
       "      <td>14</td>\n",
       "      <td>33</td>\n",
       "    </tr>\n",
       "    <tr>\n",
       "      <th>258314</th>\n",
       "      <td>247500.0</td>\n",
       "      <td>1125000.0</td>\n",
       "      <td>36292.5</td>\n",
       "      <td>1125000.0</td>\n",
       "      <td>7</td>\n",
       "      <td>16</td>\n",
       "      <td>40</td>\n",
       "    </tr>\n",
       "    <tr>\n",
       "      <th>87597</th>\n",
       "      <td>202500.0</td>\n",
       "      <td>900000.0</td>\n",
       "      <td>35158.5</td>\n",
       "      <td>900000.0</td>\n",
       "      <td>7</td>\n",
       "      <td>8</td>\n",
       "      <td>42</td>\n",
       "    </tr>\n",
       "    <tr>\n",
       "      <th>...</th>\n",
       "      <td>...</td>\n",
       "      <td>...</td>\n",
       "      <td>...</td>\n",
       "      <td>...</td>\n",
       "      <td>...</td>\n",
       "      <td>...</td>\n",
       "      <td>...</td>\n",
       "    </tr>\n",
       "    <tr>\n",
       "      <th>98497</th>\n",
       "      <td>81000.0</td>\n",
       "      <td>808650.0</td>\n",
       "      <td>26217.0</td>\n",
       "      <td>675000.0</td>\n",
       "      <td>7</td>\n",
       "      <td>16</td>\n",
       "      <td>40</td>\n",
       "    </tr>\n",
       "    <tr>\n",
       "      <th>205542</th>\n",
       "      <td>99000.0</td>\n",
       "      <td>135000.0</td>\n",
       "      <td>10822.5</td>\n",
       "      <td>135000.0</td>\n",
       "      <td>7</td>\n",
       "      <td>14</td>\n",
       "      <td>42</td>\n",
       "    </tr>\n",
       "    <tr>\n",
       "      <th>127474</th>\n",
       "      <td>157500.0</td>\n",
       "      <td>675000.0</td>\n",
       "      <td>38880.0</td>\n",
       "      <td>675000.0</td>\n",
       "      <td>7</td>\n",
       "      <td>10</td>\n",
       "      <td>42</td>\n",
       "    </tr>\n",
       "    <tr>\n",
       "      <th>46981</th>\n",
       "      <td>112500.0</td>\n",
       "      <td>1006920.0</td>\n",
       "      <td>42790.5</td>\n",
       "      <td>900000.0</td>\n",
       "      <td>3</td>\n",
       "      <td>11</td>\n",
       "      <td>57</td>\n",
       "    </tr>\n",
       "    <tr>\n",
       "      <th>194313</th>\n",
       "      <td>67500.0</td>\n",
       "      <td>104256.0</td>\n",
       "      <td>10287.0</td>\n",
       "      <td>90000.0</td>\n",
       "      <td>3</td>\n",
       "      <td>15</td>\n",
       "      <td>57</td>\n",
       "    </tr>\n",
       "  </tbody>\n",
       "</table>\n",
       "<p>92254 rows × 7 columns</p>\n",
       "</div>"
      ],
      "text/plain": [
       "        AMT_INCOME_TOTAL  AMT_CREDIT  AMT_ANNUITY  AMT_GOODS_PRICE  \\\n",
       "64282           135000.0    654498.0      31617.0         585000.0   \n",
       "94645           135000.0    234576.0      25393.5         202500.0   \n",
       "306349          112500.0    157914.0      16753.5         139500.0   \n",
       "258314          247500.0   1125000.0      36292.5        1125000.0   \n",
       "87597           202500.0    900000.0      35158.5         900000.0   \n",
       "...                  ...         ...          ...              ...   \n",
       "98497            81000.0    808650.0      26217.0         675000.0   \n",
       "205542           99000.0    135000.0      10822.5         135000.0   \n",
       "127474          157500.0    675000.0      38880.0         675000.0   \n",
       "46981           112500.0   1006920.0      42790.5         900000.0   \n",
       "194313           67500.0    104256.0      10287.0          90000.0   \n",
       "\n",
       "        NAME_INCOME_TYPE  HOUR_APPR_PROCESS_START  ORGANIZATION_TYPE  \n",
       "64282                  3                        9                 57  \n",
       "94645                  7                       17                 11  \n",
       "306349                 7                       14                 33  \n",
       "258314                 7                       16                 40  \n",
       "87597                  7                        8                 42  \n",
       "...                  ...                      ...                ...  \n",
       "98497                  7                       16                 40  \n",
       "205542                 7                       14                 42  \n",
       "127474                 7                       10                 42  \n",
       "46981                  3                       11                 57  \n",
       "194313                 3                       15                 57  \n",
       "\n",
       "[92254 rows x 7 columns]"
      ]
     },
     "execution_count": 50,
     "metadata": {},
     "output_type": "execute_result"
    }
   ],
   "source": [
    "X_test"
   ]
  },
  {
   "cell_type": "code",
   "execution_count": 54,
   "id": "a079cc54",
   "metadata": {},
   "outputs": [
    {
     "name": "stderr",
     "output_type": "stream",
     "text": [
      "D:\\anaconda\\lib\\site-packages\\sklearn\\metrics\\_classification.py:1327: UndefinedMetricWarning: Precision is ill-defined and being set to 0.0 due to no predicted samples. Use `zero_division` parameter to control this behavior.\n",
      "  _warn_prf(average, modifier, msg_start, len(result))\n"
     ]
    },
    {
     "data": {
      "text/html": [
       "<div>\n",
       "<style scoped>\n",
       "    .dataframe tbody tr th:only-of-type {\n",
       "        vertical-align: middle;\n",
       "    }\n",
       "\n",
       "    .dataframe tbody tr th {\n",
       "        vertical-align: top;\n",
       "    }\n",
       "\n",
       "    .dataframe thead th {\n",
       "        text-align: right;\n",
       "    }\n",
       "</style>\n",
       "<table border=\"1\" class=\"dataframe\">\n",
       "  <thead>\n",
       "    <tr style=\"text-align: right;\">\n",
       "      <th></th>\n",
       "      <th>Model Name</th>\n",
       "      <th>Train Accuracy</th>\n",
       "      <th>Test Accuracy</th>\n",
       "      <th>Precision</th>\n",
       "      <th>Recall</th>\n",
       "      <th>F1 score</th>\n",
       "    </tr>\n",
       "  </thead>\n",
       "  <tbody>\n",
       "    <tr>\n",
       "      <th>0</th>\n",
       "      <td>LogisticRegression</td>\n",
       "      <td>0.92</td>\n",
       "      <td>0.92</td>\n",
       "      <td>0.00</td>\n",
       "      <td>0.00</td>\n",
       "      <td>0.00</td>\n",
       "    </tr>\n",
       "    <tr>\n",
       "      <th>1</th>\n",
       "      <td>KNeighborsClassifier</td>\n",
       "      <td>0.92</td>\n",
       "      <td>0.91</td>\n",
       "      <td>0.16</td>\n",
       "      <td>0.02</td>\n",
       "      <td>0.03</td>\n",
       "    </tr>\n",
       "    <tr>\n",
       "      <th>3</th>\n",
       "      <td>RandomForestClassifier</td>\n",
       "      <td>0.98</td>\n",
       "      <td>0.91</td>\n",
       "      <td>0.15</td>\n",
       "      <td>0.02</td>\n",
       "      <td>0.03</td>\n",
       "    </tr>\n",
       "    <tr>\n",
       "      <th>2</th>\n",
       "      <td>DecisionTreeClassifier</td>\n",
       "      <td>1.00</td>\n",
       "      <td>0.84</td>\n",
       "      <td>0.11</td>\n",
       "      <td>0.13</td>\n",
       "      <td>0.12</td>\n",
       "    </tr>\n",
       "  </tbody>\n",
       "</table>\n",
       "</div>"
      ],
      "text/plain": [
       "               Model Name  Train Accuracy  Test Accuracy  Precision  Recall  \\\n",
       "0      LogisticRegression            0.92           0.92       0.00    0.00   \n",
       "1    KNeighborsClassifier            0.92           0.91       0.16    0.02   \n",
       "3  RandomForestClassifier            0.98           0.91       0.15    0.02   \n",
       "2  DecisionTreeClassifier            1.00           0.84       0.11    0.13   \n",
       "\n",
       "   F1 score  \n",
       "0      0.00  \n",
       "1      0.03  \n",
       "3      0.03  \n",
       "2      0.12  "
      ]
     },
     "execution_count": 54,
     "metadata": {},
     "output_type": "execute_result"
    }
   ],
   "source": [
    "def ml_model(X_train,X_test, Y_train, Y_test):\n",
    "    MLA = [LogisticRegression(),KNeighborsClassifier(),DecisionTreeClassifier(),RandomForestClassifier(n_estimators = 10, random_state = 0)]\n",
    "    MLA_columns = []\n",
    "    MLA_compare = pd.DataFrame(columns = MLA_columns)\n",
    "    row_index = 0\n",
    "    for alg in MLA:\n",
    "        predicted = alg.fit(X_train, Y_train).predict(X_test)\n",
    "        MLA_name = alg.__class__.__name__\n",
    "        MLA_compare.loc[row_index,'Model Name'] = MLA_name\n",
    "        MLA_compare.loc[row_index, 'Train Accuracy'] = round(alg.score(X_train, Y_train), 2)\n",
    "        MLA_compare.loc[row_index, 'Test Accuracy'] = round(alg.score(X_test, Y_test), 2)\n",
    "        MLA_compare.loc[row_index, 'Precision'] = round(precision_score(Y_test, predicted),2)\n",
    "        MLA_compare.loc[row_index, 'Recall'] = round(recall_score(Y_test, predicted),2)\n",
    "        MLA_compare.loc[row_index, 'F1 score'] = round(f1_score(Y_test, predicted),2)\n",
    "        row_index+=1\n",
    "    MLA_compare.sort_values(by = ['Test Accuracy'], ascending = False, inplace = True)    \n",
    "    return MLA_compare  \n",
    "ml_model(X_train,X_test, y_train, y_test)"
   ]
  },
  {
   "cell_type": "code",
   "execution_count": 55,
   "id": "5b8063c2",
   "metadata": {},
   "outputs": [],
   "source": [
    "#SMOTE 采样"
   ]
  },
  {
   "cell_type": "code",
   "execution_count": 56,
   "id": "eb488fa8",
   "metadata": {},
   "outputs": [
    {
     "name": "stdout",
     "output_type": "stream",
     "text": [
      "Counter({0: 282686, 1: 24825})\n",
      "Counter({1: 282686, 0: 282686})\n"
     ]
    }
   ],
   "source": [
    "from collections import Counter\n",
    "print(Counter(y))\n",
    "\n",
    "\n",
    "from imblearn.over_sampling import SMOTE\n",
    "\n",
    "smo = SMOTE(random_state=42)\n",
    "X_smo, y_smo = smo.fit_resample(X, y)\n",
    "\n",
    "\n",
    "print(Counter(y_smo))\n",
    "\n"
   ]
  },
  {
   "cell_type": "code",
   "execution_count": 57,
   "id": "1aa0252c",
   "metadata": {},
   "outputs": [
    {
     "data": {
      "text/plain": [
       "((395760, 7), (169612, 7))"
      ]
     },
     "execution_count": 57,
     "metadata": {},
     "output_type": "execute_result"
    }
   ],
   "source": [
    "from sklearn.model_selection import train_test_split \n",
    "X_train2,X_test2,y_train2,y_test2=train_test_split(X_smo,y_smo,test_size=0.3,random_state=1)\n",
    "\n",
    "X_train2.shape,X_test2.shape"
   ]
  },
  {
   "cell_type": "code",
   "execution_count": 58,
   "id": "264e586b",
   "metadata": {},
   "outputs": [
    {
     "data": {
      "text/html": [
       "<style>#sk-container-id-2 {color: black;background-color: white;}#sk-container-id-2 pre{padding: 0;}#sk-container-id-2 div.sk-toggleable {background-color: white;}#sk-container-id-2 label.sk-toggleable__label {cursor: pointer;display: block;width: 100%;margin-bottom: 0;padding: 0.3em;box-sizing: border-box;text-align: center;}#sk-container-id-2 label.sk-toggleable__label-arrow:before {content: \"▸\";float: left;margin-right: 0.25em;color: #696969;}#sk-container-id-2 label.sk-toggleable__label-arrow:hover:before {color: black;}#sk-container-id-2 div.sk-estimator:hover label.sk-toggleable__label-arrow:before {color: black;}#sk-container-id-2 div.sk-toggleable__content {max-height: 0;max-width: 0;overflow: hidden;text-align: left;background-color: #f0f8ff;}#sk-container-id-2 div.sk-toggleable__content pre {margin: 0.2em;color: black;border-radius: 0.25em;background-color: #f0f8ff;}#sk-container-id-2 input.sk-toggleable__control:checked~div.sk-toggleable__content {max-height: 200px;max-width: 100%;overflow: auto;}#sk-container-id-2 input.sk-toggleable__control:checked~label.sk-toggleable__label-arrow:before {content: \"▾\";}#sk-container-id-2 div.sk-estimator input.sk-toggleable__control:checked~label.sk-toggleable__label {background-color: #d4ebff;}#sk-container-id-2 div.sk-label input.sk-toggleable__control:checked~label.sk-toggleable__label {background-color: #d4ebff;}#sk-container-id-2 input.sk-hidden--visually {border: 0;clip: rect(1px 1px 1px 1px);clip: rect(1px, 1px, 1px, 1px);height: 1px;margin: -1px;overflow: hidden;padding: 0;position: absolute;width: 1px;}#sk-container-id-2 div.sk-estimator {font-family: monospace;background-color: #f0f8ff;border: 1px dotted black;border-radius: 0.25em;box-sizing: border-box;margin-bottom: 0.5em;}#sk-container-id-2 div.sk-estimator:hover {background-color: #d4ebff;}#sk-container-id-2 div.sk-parallel-item::after {content: \"\";width: 100%;border-bottom: 1px solid gray;flex-grow: 1;}#sk-container-id-2 div.sk-label:hover label.sk-toggleable__label {background-color: #d4ebff;}#sk-container-id-2 div.sk-serial::before {content: \"\";position: absolute;border-left: 1px solid gray;box-sizing: border-box;top: 0;bottom: 0;left: 50%;z-index: 0;}#sk-container-id-2 div.sk-serial {display: flex;flex-direction: column;align-items: center;background-color: white;padding-right: 0.2em;padding-left: 0.2em;position: relative;}#sk-container-id-2 div.sk-item {position: relative;z-index: 1;}#sk-container-id-2 div.sk-parallel {display: flex;align-items: stretch;justify-content: center;background-color: white;position: relative;}#sk-container-id-2 div.sk-item::before, #sk-container-id-2 div.sk-parallel-item::before {content: \"\";position: absolute;border-left: 1px solid gray;box-sizing: border-box;top: 0;bottom: 0;left: 50%;z-index: -1;}#sk-container-id-2 div.sk-parallel-item {display: flex;flex-direction: column;z-index: 1;position: relative;background-color: white;}#sk-container-id-2 div.sk-parallel-item:first-child::after {align-self: flex-end;width: 50%;}#sk-container-id-2 div.sk-parallel-item:last-child::after {align-self: flex-start;width: 50%;}#sk-container-id-2 div.sk-parallel-item:only-child::after {width: 0;}#sk-container-id-2 div.sk-dashed-wrapped {border: 1px dashed gray;margin: 0 0.4em 0.5em 0.4em;box-sizing: border-box;padding-bottom: 0.4em;background-color: white;}#sk-container-id-2 div.sk-label label {font-family: monospace;font-weight: bold;display: inline-block;line-height: 1.2em;}#sk-container-id-2 div.sk-label-container {text-align: center;}#sk-container-id-2 div.sk-container {/* jupyter's `normalize.less` sets `[hidden] { display: none; }` but bootstrap.min.css set `[hidden] { display: none !important; }` so we also need the `!important` here to be able to override the default hidden behavior on the sphinx rendered scikit-learn.org. See: https://github.com/scikit-learn/scikit-learn/issues/21755 */display: inline-block !important;position: relative;}#sk-container-id-2 div.sk-text-repr-fallback {display: none;}</style><div id=\"sk-container-id-2\" class=\"sk-top-container\"><div class=\"sk-text-repr-fallback\"><pre>RandomForestClassifier(n_estimators=10, random_state=0)</pre><b>In a Jupyter environment, please rerun this cell to show the HTML representation or trust the notebook. <br />On GitHub, the HTML representation is unable to render, please try loading this page with nbviewer.org.</b></div><div class=\"sk-container\" hidden><div class=\"sk-item\"><div class=\"sk-estimator sk-toggleable\"><input class=\"sk-toggleable__control sk-hidden--visually\" id=\"sk-estimator-id-2\" type=\"checkbox\" checked><label for=\"sk-estimator-id-2\" class=\"sk-toggleable__label sk-toggleable__label-arrow\">RandomForestClassifier</label><div class=\"sk-toggleable__content\"><pre>RandomForestClassifier(n_estimators=10, random_state=0)</pre></div></div></div></div></div>"
      ],
      "text/plain": [
       "RandomForestClassifier(n_estimators=10, random_state=0)"
      ]
     },
     "execution_count": 58,
     "metadata": {},
     "output_type": "execute_result"
    }
   ],
   "source": [
    "# Applying random forest Classifier\n",
    "from sklearn.ensemble import RandomForestClassifier\n",
    "rf_Classifier = RandomForestClassifier(n_estimators = 10, random_state = 0)\n",
    "rf_Classifier.fit(X_train2, y_train2)"
   ]
  },
  {
   "cell_type": "code",
   "execution_count": 59,
   "id": "9d7359f0",
   "metadata": {},
   "outputs": [
    {
     "data": {
      "text/plain": [
       "array([1, 1, 1, ..., 1, 1, 0], dtype=int64)"
      ]
     },
     "execution_count": 59,
     "metadata": {},
     "output_type": "execute_result"
    }
   ],
   "source": [
    "y_pred2 = rf_Classifier.predict(X_test2)\n",
    "y_pred2"
   ]
  },
  {
   "cell_type": "code",
   "execution_count": 60,
   "id": "94cc83d4",
   "metadata": {},
   "outputs": [
    {
     "name": "stdout",
     "output_type": "stream",
     "text": [
      "              precision    recall  f1-score   support\n",
      "\n",
      "           0       0.85      0.89      0.87     84819\n",
      "           1       0.89      0.84      0.86     84793\n",
      "\n",
      "    accuracy                           0.87    169612\n",
      "   macro avg       0.87      0.87      0.87    169612\n",
      "weighted avg       0.87      0.87      0.87    169612\n",
      "\n"
     ]
    }
   ],
   "source": [
    "# Classification Report\n",
    "from sklearn.metrics import classification_report\n",
    "print(classification_report(y_test2, y_pred2))"
   ]
  },
  {
   "cell_type": "code",
   "execution_count": 61,
   "id": "7fda3e5f",
   "metadata": {},
   "outputs": [
    {
     "name": "stdout",
     "output_type": "stream",
     "text": [
      "AUC :  0.8651764676590563\n"
     ]
    },
    {
     "data": {
      "image/png": "[encoded data removed]",
      "text/plain": [
       "<Figure size 1000x600 with 1 Axes>"
      ]
     },
     "metadata": {},
     "output_type": "display_data"
    }
   ],
   "source": [
    "from sklearn.metrics import roc_curve\n",
    "import matplotlib.pyplot as plt\n",
    "\n",
    "fpr, tpr, thresholds = \\\n",
    "roc_curve(y_test2,y_pred2)\n",
    "rfauc = auc(fpr, tpr)\n",
    "print(\"AUC : \", rfauc)\n",
    "plt.figure(figsize=(10,6))\n",
    "plt.xlim(0,1) \n",
    "plt.ylim(0.0,1.1) \n",
    "plt.xlabel('False Postive Rate')\n",
    "plt.ylabel('True Postive Rate')\n",
    "plt.plot(fpr,tpr,linewidth=2, linestyle=\"-\",color='red')\n",
    "plt.show()"
   ]
  },
  {
   "cell_type": "code",
   "execution_count": 62,
   "id": "fc5dc73d",
   "metadata": {},
   "outputs": [
    {
     "name": "stdout",
     "output_type": "stream",
     "text": [
      "AUC :  0.5525777255305682\n"
     ]
    },
    {
     "data": {
      "image/png": "[encoded data removed]",
      "text/plain": [
       "<Figure size 1000x600 with 1 Axes>"
      ]
     },
     "metadata": {},
     "output_type": "display_data"
    }
   ],
   "source": [
    "LogisticRegression_fit2 = LogisticRegression().fit(X_train2,y_train2).predict(X_test2)\n",
    "from sklearn.metrics import roc_curve\n",
    "import matplotlib.pyplot as plt\n",
    "\n",
    "fpr, tpr, thresholds = \\\n",
    "roc_curve(y_test2,LogisticRegression_fit2)\n",
    "lgauc = auc(fpr, tpr)\n",
    "print(\"AUC : \", lgauc)\n",
    "plt.figure(figsize=(10,6))\n",
    "plt.xlim(0,1) \n",
    "plt.ylim(0.0,1.1) \n",
    "plt.xlabel('False Postive Rate')\n",
    "plt.ylabel('True Postive Rate')\n",
    "plt.plot(fpr,tpr,linewidth=2, linestyle=\"-\",color='red')\n",
    "plt.show()"
   ]
  },
  {
   "cell_type": "code",
   "execution_count": 63,
   "id": "ba022f79",
   "metadata": {},
   "outputs": [
    {
     "name": "stdout",
     "output_type": "stream",
     "text": [
      "AUC :  0.8018423951644991\n"
     ]
    },
    {
     "data": {
      "image/png": "[encoded data removed]",
      "text/plain": [
       "<Figure size 1000x600 with 1 Axes>"
      ]
     },
     "metadata": {},
     "output_type": "display_data"
    }
   ],
   "source": [
    "KNN_fit2 = KNeighborsClassifier().fit(X_train2,y_train2).predict(X_test2)\n",
    "fpr, tpr, thresholds = \\\n",
    "roc_curve(y_test2,KNN_fit2)\n",
    "knauc = auc(fpr, tpr)\n",
    "print(\"AUC : \", knauc)\n",
    "plt.figure(figsize=(10,6))\n",
    "plt.xlim(0,1) \n",
    "plt.ylim(0.0,1.1) \n",
    "plt.xlabel('False Postive Rate')\n",
    "plt.ylabel('True Postive Rate')\n",
    "plt.plot(fpr,tpr,linewidth=2, linestyle=\"-\",color='red')\n",
    "plt.show()"
   ]
  },
  {
   "cell_type": "code",
   "execution_count": 64,
   "id": "826c5f23",
   "metadata": {},
   "outputs": [
    {
     "name": "stdout",
     "output_type": "stream",
     "text": [
      "AUC :  0.8101813458437985\n"
     ]
    },
    {
     "data": {
      "image/png": "[encoded data removed]",
      "text/plain": [
       "<Figure size 1000x600 with 1 Axes>"
      ]
     },
     "metadata": {},
     "output_type": "display_data"
    }
   ],
   "source": [
    "DecisionTreeClassifier_fit2 = DecisionTreeClassifier().fit(X_train2,y_train2).predict(X_test2)\n",
    "fpr, tpr, thresholds = \\\n",
    "roc_curve(y_test2,DecisionTreeClassifier_fit2)\n",
    "dtauc = auc(fpr, tpr)\n",
    "print(\"AUC : \", dtauc)\n",
    "plt.figure(figsize=(10,6))\n",
    "plt.xlim(0,1) \n",
    "plt.ylim(0.0,1.1) \n",
    "plt.xlabel('False Postive Rate')\n",
    "plt.ylabel('True Postive Rate')\n",
    "plt.plot(fpr,tpr,linewidth=2, linestyle=\"-\",color='red')\n",
    "plt.show()"
   ]
  },
  {
   "cell_type": "code",
   "execution_count": 65,
   "id": "2f56e220",
   "metadata": {},
   "outputs": [],
   "source": [
    "from sklearn.metrics import accuracy_score,f1_score,precision_score, recall_score"
   ]
  },
  {
   "cell_type": "code",
   "execution_count": 66,
   "id": "c0133ad0",
   "metadata": {},
   "outputs": [
    {
     "data": {
      "text/html": [
       "<div>\n",
       "<style scoped>\n",
       "    .dataframe tbody tr th:only-of-type {\n",
       "        vertical-align: middle;\n",
       "    }\n",
       "\n",
       "    .dataframe tbody tr th {\n",
       "        vertical-align: top;\n",
       "    }\n",
       "\n",
       "    .dataframe thead th {\n",
       "        text-align: right;\n",
       "    }\n",
       "</style>\n",
       "<table border=\"1\" class=\"dataframe\">\n",
       "  <thead>\n",
       "    <tr style=\"text-align: right;\">\n",
       "      <th></th>\n",
       "      <th>Model Name</th>\n",
       "      <th>Train Accuracy</th>\n",
       "      <th>Test Accuracy</th>\n",
       "      <th>Precision</th>\n",
       "      <th>Recall</th>\n",
       "      <th>F1 score</th>\n",
       "    </tr>\n",
       "  </thead>\n",
       "  <tbody>\n",
       "    <tr>\n",
       "      <th>3</th>\n",
       "      <td>RandomForestClassifier</td>\n",
       "      <td>0.99</td>\n",
       "      <td>0.87</td>\n",
       "      <td>0.89</td>\n",
       "      <td>0.84</td>\n",
       "      <td>0.86</td>\n",
       "    </tr>\n",
       "    <tr>\n",
       "      <th>2</th>\n",
       "      <td>DecisionTreeClassifier</td>\n",
       "      <td>0.99</td>\n",
       "      <td>0.81</td>\n",
       "      <td>0.80</td>\n",
       "      <td>0.83</td>\n",
       "      <td>0.81</td>\n",
       "    </tr>\n",
       "    <tr>\n",
       "      <th>1</th>\n",
       "      <td>KNeighborsClassifier</td>\n",
       "      <td>0.87</td>\n",
       "      <td>0.80</td>\n",
       "      <td>0.78</td>\n",
       "      <td>0.84</td>\n",
       "      <td>0.81</td>\n",
       "    </tr>\n",
       "    <tr>\n",
       "      <th>0</th>\n",
       "      <td>LogisticRegression</td>\n",
       "      <td>0.55</td>\n",
       "      <td>0.55</td>\n",
       "      <td>0.55</td>\n",
       "      <td>0.62</td>\n",
       "      <td>0.58</td>\n",
       "    </tr>\n",
       "  </tbody>\n",
       "</table>\n",
       "</div>"
      ],
      "text/plain": [
       "               Model Name  Train Accuracy  Test Accuracy  Precision  Recall  \\\n",
       "3  RandomForestClassifier            0.99           0.87       0.89    0.84   \n",
       "2  DecisionTreeClassifier            0.99           0.81       0.80    0.83   \n",
       "1    KNeighborsClassifier            0.87           0.80       0.78    0.84   \n",
       "0      LogisticRegression            0.55           0.55       0.55    0.62   \n",
       "\n",
       "   F1 score  \n",
       "3      0.86  \n",
       "2      0.81  \n",
       "1      0.81  \n",
       "0      0.58  "
      ]
     },
     "execution_count": 66,
     "metadata": {},
     "output_type": "execute_result"
    }
   ],
   "source": [
    "def ml_model(X_train,X_test, Y_train, Y_test):\n",
    "    MLA = [LogisticRegression(),KNeighborsClassifier(),DecisionTreeClassifier(),RandomForestClassifier(n_estimators = 10, random_state = 0)]\n",
    "    MLA_columns = []\n",
    "    MLA_compare = pd.DataFrame(columns = MLA_columns)\n",
    "    row_index = 0\n",
    "    for alg in MLA:\n",
    "        predicted = alg.fit(X_train, Y_train).predict(X_test)\n",
    "        MLA_name = alg.__class__.__name__\n",
    "        MLA_compare.loc[row_index,'Model Name'] = MLA_name\n",
    "        MLA_compare.loc[row_index, 'Train Accuracy'] = round(alg.score(X_train, Y_train), 2)\n",
    "        MLA_compare.loc[row_index, 'Test Accuracy'] = round(alg.score(X_test, Y_test), 2)\n",
    "        MLA_compare.loc[row_index, 'Precision'] = round(precision_score(Y_test, predicted),2)\n",
    "        MLA_compare.loc[row_index, 'Recall'] = round(recall_score(Y_test, predicted),2)\n",
    "        MLA_compare.loc[row_index, 'F1 score'] = round(f1_score(Y_test, predicted),2)\n",
    "        row_index+=1\n",
    "    MLA_compare.sort_values(by = ['Test Accuracy'], ascending = False, inplace = True)    \n",
    "    return MLA_compare  \n",
    "ml_model(X_train2,X_test2, y_train2, y_test2)"
   ]
  },
  {
   "cell_type": "markdown",
   "id": "65f709e4",
   "metadata": {},
   "source": [
    "混淆矩阵"
   ]
  },
  {
   "cell_type": "code",
   "execution_count": 67,
   "id": "593754a0",
   "metadata": {},
   "outputs": [
    {
     "name": "stdout",
     "output_type": "stream",
     "text": [
      "[[75631  9188]\n",
      " [13679 71114]]\n"
     ]
    },
    {
     "data": {
      "text/plain": [
       "0.8651805296795038"
      ]
     },
     "execution_count": 67,
     "metadata": {},
     "output_type": "execute_result"
    }
   ],
   "source": [
    "from sklearn.metrics import  confusion_matrix,accuracy_score\n",
    "cm2=confusion_matrix(y_test2,y_pred2)\n",
    "print(cm2)\n",
    "accuracy_score(y_test2,y_pred2)"
   ]
  },
  {
   "cell_type": "code",
   "execution_count": 68,
   "id": "174fbf08",
   "metadata": {},
   "outputs": [
    {
     "name": "stdout",
     "output_type": "stream",
     "text": [
      "[[40954 43865]\n",
      " [32025 52768]]\n"
     ]
    },
    {
     "data": {
      "text/plain": [
       "0.5525670353512723"
      ]
     },
     "execution_count": 68,
     "metadata": {},
     "output_type": "execute_result"
    }
   ],
   "source": [
    "cm2=confusion_matrix(y_test2,LogisticRegression_fit2)\n",
    "print(cm2)\n",
    "accuracy_score(y_test2,LogisticRegression_fit2)"
   ]
  },
  {
   "cell_type": "code",
   "execution_count": 69,
   "id": "62691484",
   "metadata": {},
   "outputs": [
    {
     "name": "stdout",
     "output_type": "stream",
     "text": [
      "[[64448 20371]\n",
      " [13240 71553]]\n"
     ]
    },
    {
     "data": {
      "text/plain": [
       "0.8018359550031837"
      ]
     },
     "execution_count": 69,
     "metadata": {},
     "output_type": "execute_result"
    }
   ],
   "source": [
    "cm2=confusion_matrix(y_test2,KNN_fit2)\n",
    "print(cm2)\n",
    "accuracy_score(y_test2,KNN_fit2)"
   ]
  },
  {
   "cell_type": "code",
   "execution_count": 70,
   "id": "3d3bb975",
   "metadata": {},
   "outputs": [
    {
     "name": "stdout",
     "output_type": "stream",
     "text": [
      "[[67158 17661]\n",
      " [14535 70258]]\n"
     ]
    },
    {
     "data": {
      "text/plain": [
       "0.8101785251043558"
      ]
     },
     "execution_count": 70,
     "metadata": {},
     "output_type": "execute_result"
    }
   ],
   "source": [
    "cm2=confusion_matrix(y_test2,DecisionTreeClassifier_fit2)\n",
    "print(cm2)\n",
    "accuracy_score(y_test2,DecisionTreeClassifier_fit2)"
   ]
  },
  {
   "cell_type": "code",
   "execution_count": 75,
   "id": "326e26bb",
   "metadata": {},
   "outputs": [
    {
     "name": "stdout",
     "output_type": "stream",
     "text": [
      "169612 169612 <class 'numpy.ndarray'> [1 1 1 ... 0 1 1] 169612\n"
     ]
    }
   ],
   "source": [
    "print(len(LogisticRegression_fit2),\n",
    "len(DecisionTreeClassifier_fit2),\n",
    "      type(LogisticRegression_fit2),\n",
    "      LogisticRegression_fit2,\n",
    "len(KNN_fit2))"
   ]
  },
  {
   "cell_type": "code",
   "execution_count": 144,
   "id": "b25cfc5c",
   "metadata": {},
   "outputs": [],
   "source": [
    "myresult=[]\n",
    "for i in range(len(KNN_fit2)):\n",
    "    score = 0.5*LogisticRegression_fit2[i] + 0.8*DecisionTreeClassifier_fit2[i] + 0.8*KNN_fit2[i] + 1*y_pred2[i]\n",
    "    if score>1.59:\n",
    "        myresult.append(1)\n",
    "    else:\n",
    "        myresult.append(0)\n",
    "        \n",
    "myresult = np.array(myresult)\n"
   ]
  },
  {
   "cell_type": "code",
   "execution_count": 145,
   "id": "512fa901",
   "metadata": {},
   "outputs": [
    {
     "name": "stdout",
     "output_type": "stream",
     "text": [
      "[1 1 1 ... 1 1 0] 169612\n",
      "[[74500 10319]\n",
      " [10764 74029]]\n"
     ]
    },
    {
     "data": {
      "text/plain": [
       "0.8756986533971653"
      ]
     },
     "execution_count": 145,
     "metadata": {},
     "output_type": "execute_result"
    }
   ],
   "source": [
    "print(\n",
    "myresult,\n",
    "    len(myresult),\n",
    ")\n",
    "cm2=confusion_matrix(y_test2,myresult)\n",
    "print(cm2)\n",
    "accuracy_score(y_test2,myresult)"
   ]
  },
  {
   "cell_type": "code",
   "execution_count": 147,
   "id": "210eadcb",
   "metadata": {},
   "outputs": [
    {
     "name": "stdout",
     "output_type": "stream",
     "text": [
      "precision: 0.88\n",
      "recal: 0.87\n",
      "F1: 0.88\n"
     ]
    }
   ],
   "source": [
    "print(\"precision:\",round(precision_score(y_test2, myresult),2))\n",
    "print(\"recal:\", round(recall_score(y_test2, myresult),2))\n",
    "print(\"F1:\", round(f1_score(y_test2, myresult),2))"
   ]
  },
  {
   "cell_type": "code",
   "execution_count": 140,
   "id": "abb4a582",
   "metadata": {},
   "outputs": [],
   "source": [
    "myresult0=[]\n",
    "for i in range(len(KNN_fit)):\n",
    "    score = 0.8*LogisticRegression_fit[i] + 0.5*DecisionTreeClassifier_fit[i] + 0.8*KNN_fit[i] + 1*y_pred[i]\n",
    "    if score>1.59:\n",
    "        myresult0.append(1)\n",
    "    else:\n",
    "        myresult0.append(0)\n",
    "        \n",
    "myresult0 = np.array(myresult0)"
   ]
  },
  {
   "cell_type": "code",
   "execution_count": 142,
   "id": "fef60efc",
   "metadata": {},
   "outputs": [
    {
     "name": "stdout",
     "output_type": "stream",
     "text": [
      "[0 0 0 ... 0 0 0] 92254\n",
      "[[84713    74]\n",
      " [ 7448    19]]\n"
     ]
    },
    {
     "data": {
      "text/plain": [
       "0.9184642400329525"
      ]
     },
     "execution_count": 142,
     "metadata": {},
     "output_type": "execute_result"
    }
   ],
   "source": [
    "#imbalance dataset\n",
    "print(\n",
    "myresult0,\n",
    "    len(myresult0),\n",
    ")\n",
    "cm=confusion_matrix(y_test,myresult0)\n",
    "print(cm)\n",
    "accuracy_score(y_test,myresult0)"
   ]
  },
  {
   "cell_type": "code",
   "execution_count": 148,
   "id": "a8684bbe",
   "metadata": {},
   "outputs": [
    {
     "name": "stdout",
     "output_type": "stream",
     "text": [
      "precision: 0.2\n",
      "recal: 0.0\n",
      "F1: 0.01\n"
     ]
    }
   ],
   "source": [
    "print(\"precision:\",round(precision_score(y_test, myresult0),2))\n",
    "print(\"recal:\", round(recall_score(y_test, myresult0),2))\n",
    "print(\"F1:\", round(f1_score(y_test, myresult0),2))"
   ]
  },
  {
   "cell_type": "code",
   "execution_count": 126,
   "id": "a1119249",
   "metadata": {},
   "outputs": [
    {
     "name": "stdout",
     "output_type": "stream",
     "text": [
      "0.7303588641558286\n"
     ]
    }
   ],
   "source": [
    "from sklearn.metrics import cohen_kappa_score\n",
    "# Kappa系数是基于混淆矩阵的计算得到的模型评价参数(越接近 1 越好)\n",
    "kappa2 = cohen_kappa_score(np.array(y_test2).reshape(-1,1), np.array(y_pred2).reshape(-1,1))\n",
    "print(kappa2)"
   ]
  },
  {
   "cell_type": "code",
   "execution_count": 73,
   "id": "5964f459",
   "metadata": {},
   "outputs": [
    {
     "name": "stdout",
     "output_type": "stream",
     "text": [
      "0.10515320063687106\n"
     ]
    }
   ],
   "source": [
    "kappa2 = cohen_kappa_score(np.array(y_test2).reshape(-1,1), np.array(LogisticRegression_fit2).reshape(-1,1))\n",
    "print(kappa2)"
   ]
  },
  {
   "cell_type": "code",
   "execution_count": 74,
   "id": "324cad11",
   "metadata": {},
   "outputs": [
    {
     "name": "stdout",
     "output_type": "stream",
     "text": [
      "0.6036770091523269\n"
     ]
    }
   ],
   "source": [
    "kappa2 = cohen_kappa_score(np.array(y_test2).reshape(-1,1), np.array(KNN_fit2).reshape(-1,1))\n",
    "print(kappa2)"
   ]
  },
  {
   "cell_type": "code",
   "execution_count": 75,
   "id": "d566eb0b",
   "metadata": {},
   "outputs": [
    {
     "name": "stdout",
     "output_type": "stream",
     "text": [
      "0.6216325536754177\n"
     ]
    }
   ],
   "source": [
    "kappa2 = cohen_kappa_score(np.array(y_test2).reshape(-1,1), np.array(DecisionTreeClassifier_fit2).reshape(-1,1))\n",
    "print(kappa2)"
   ]
  },
  {
   "cell_type": "code",
   "execution_count": null,
   "id": "8d713244",
   "metadata": {},
   "outputs": [],
   "source": []
  },
  {
   "cell_type": "code",
   "execution_count": null,
   "id": "bba71e2f",
   "metadata": {},
   "outputs": [],
   "source": []
  },
  {
   "cell_type": "code",
   "execution_count": 76,
   "id": "ce9e6469",
   "metadata": {},
   "outputs": [],
   "source": [
    "def kappa_cal(matrix):\n",
    "    n = np.sum(matrix)\n",
    "    sum_po = 0\n",
    "    sum_pe = 0\n",
    "    for i in range(len(matrix[0])):\n",
    "        sum_po += matrix[i][i]\n",
    "        row = np.sum(matrix[i, :])\n",
    "        col = np.sum(matrix[:, i])\n",
    "        sum_pe += row * col\n",
    "    po = sum_po / n\n",
    "    pe = sum_pe / (n * n)\n",
    "    # print(po, pe)\n",
    "    return (po - pe) / (1 - pe)\n",
    "\n",
    "from sklearn.metrics import confusion_matrix\n",
    "matrix2 = confusion_matrix(np.array(y_test2).reshape(-1,1), np.array(y_pred2).reshape(-1,1))\n",
    "kappaByHand2 = kappa_cal(matrix2)"
   ]
  },
  {
   "cell_type": "code",
   "execution_count": 77,
   "id": "59e9ab25",
   "metadata": {},
   "outputs": [
    {
     "data": {
      "text/plain": [
       "array([[75631,  9188],\n",
       "       [13679, 71114]], dtype=int64)"
      ]
     },
     "execution_count": 77,
     "metadata": {},
     "output_type": "execute_result"
    }
   ],
   "source": [
    "matrix2"
   ]
  },
  {
   "cell_type": "code",
   "execution_count": 78,
   "id": "180dd5b2",
   "metadata": {},
   "outputs": [
    {
     "data": {
      "text/plain": [
       "0.7303588641558285"
      ]
     },
     "execution_count": 78,
     "metadata": {},
     "output_type": "execute_result"
    }
   ],
   "source": [
    "kappaByHand2"
   ]
  },
  {
   "cell_type": "code",
   "execution_count": 55,
   "id": "76f8bc6c",
   "metadata": {},
   "outputs": [
    {
     "ename": "NameError",
     "evalue": "name 'LogisticRegression_fit2' is not defined",
     "output_type": "error",
     "traceback": [
      "\u001b[1;31m---------------------------------------------------------------------------\u001b[0m",
      "\u001b[1;31mNameError\u001b[0m                                 Traceback (most recent call last)",
      "\u001b[1;32m~\\AppData\\Local\\Temp\\ipykernel_11656\\3384333341.py\u001b[0m in \u001b[0;36m<module>\u001b[1;34m\u001b[0m\n\u001b[1;32m----> 1\u001b[1;33m \u001b[0mLogisticRegression_fit2\u001b[0m\u001b[1;33m\u001b[0m\u001b[1;33m\u001b[0m\u001b[0m\n\u001b[0m",
      "\u001b[1;31mNameError\u001b[0m: name 'LogisticRegression_fit2' is not defined"
     ]
    }
   ],
   "source": [
    "LogisticRegression_fit2"
   ]
  },
  {
   "cell_type": "code",
   "execution_count": 79,
   "id": "64b7c6be",
   "metadata": {
    "execution": {
     "iopub.execute_input": "2022-07-08T04:17:36.012380Z",
     "iopub.status.busy": "2022-07-08T04:17:36.011972Z",
     "iopub.status.idle": "2022-07-08T04:17:36.024496Z",
     "shell.execute_reply": "2022-07-08T04:17:36.023385Z"
    },
    "papermill": {
     "duration": 0.035618,
     "end_time": "2022-07-08T04:17:36.026944",
     "exception": false,
     "start_time": "2022-07-08T04:17:35.991326",
     "status": "completed"
    },
    "tags": []
   },
   "outputs": [
    {
     "name": "stderr",
     "output_type": "stream",
     "text": [
      "D:\\anaconda\\lib\\site-packages\\sklearn\\base.py:450: UserWarning: X does not have valid feature names, but RandomForestClassifier was fitted with feature names\n",
      "  warnings.warn(\n"
     ]
    },
    {
     "data": {
      "text/plain": [
       "array([1], dtype=int64)"
      ]
     },
     "execution_count": 79,
     "metadata": {},
     "output_type": "execute_result"
    }
   ],
   "source": [
    "result = rf_Classifier.predict(np.array([[192500.0,157914.0,15753.5,139500.0,3,15,33]]))\n",
    "result\n"
   ]
  },
  {
   "cell_type": "code",
   "execution_count": 80,
   "id": "7fdb0b42",
   "metadata": {
    "papermill": {
     "duration": 0.019066,
     "end_time": "2022-07-08T04:17:36.066038",
     "exception": false,
     "start_time": "2022-07-08T04:17:36.046972",
     "status": "completed"
    },
    "tags": []
   },
   "outputs": [
    {
     "name": "stdout",
     "output_type": "stream",
     "text": [
      "[1]\n"
     ]
    }
   ],
   "source": [
    "print(result)"
   ]
  },
  {
   "cell_type": "code",
   "execution_count": null,
   "id": "614bd034",
   "metadata": {},
   "outputs": [],
   "source": []
  }
 ],
 "metadata": {
  "kernelspec": {
   "display_name": "Python 3 (ipykernel)",
   "language": "python",
   "name": "python3"
  },
  "language_info": {
   "codemirror_mode": {
    "name": "ipython",
    "version": 3
   },
   "file_extension": ".py",
   "mimetype": "text/x-python",
   "name": "python",
   "nbconvert_exporter": "python",
   "pygments_lexer": "ipython3",
   "version": "3.9.12"
  },
  "papermill": {
   "default_parameters": {},
   "duration": 40.901012,
   "end_time": "2022-07-08T04:17:37.108533",
   "environment_variables": {},
   "exception": null,
   "input_path": "__notebook__.ipynb",
   "output_path": "__notebook__.ipynb",
   "parameters": {},
   "start_time": "2022-07-08T04:16:56.207521",
   "version": "2.3.4"
  }
 },
 "nbformat": 4,
 "nbformat_minor": 5
}
